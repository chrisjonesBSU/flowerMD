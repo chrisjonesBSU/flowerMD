{
 "cells": [
  {
   "cell_type": "code",
   "execution_count": 11,
   "id": "aab655b2-6823-41bf-b7fd-e8d010d37f0d",
   "metadata": {},
   "outputs": [],
   "source": [
    "import warnings\n",
    "warnings.filterwarnings(\"ignore\")\n",
    "\n",
    "from IPython.display import Image\n",
    "\n",
    "import mbuild as mb\n",
    "from mbuild.lib.recipes import Polymer as mbPolymer"
   ]
  },
  {
   "cell_type": "markdown",
   "id": "8ff03164-5d9e-479b-9685-1ed437dd0d5d",
   "metadata": {},
   "source": [
    "# Polyvinylidene Fluoride (PVDF)\n",
    "\n",
    "https://en.wikipedia.org/wiki/Polyvinylidene_fluoride\n",
    "\n",
    ">It is available in the form of piping products, sheet, tubing, films, plate and an insulator for premium wire. It can be injected, molded or welded and is commonly used in the chemical, semiconductor, medical and defense industries"
   ]
  },
  {
   "cell_type": "code",
   "execution_count": 12,
   "id": "ad037987-eff6-4eac-9025-3882d18e3d76",
   "metadata": {},
   "outputs": [
    {
     "data": {
      "image/png": "[encoded data removed]",
      "text/plain": [
       "<IPython.core.display.Image object>"
      ]
     },
     "execution_count": 12,
     "metadata": {},
     "output_type": "execute_result"
    }
   ],
   "source": [
    "Image(\"pvdf.png\")"
   ]
  },
  {
   "cell_type": "markdown",
   "id": "2bf17956-1cd9-44c2-8fdd-1b6f669a9fbc",
   "metadata": {},
   "source": [
    "# Using mBuild:"
   ]
  },
  {
   "cell_type": "code",
   "execution_count": 14,
   "id": "cc54b670-a5ec-40a0-88d5-b94a9959c9d3",
   "metadata": {},
   "outputs": [
    {
     "data": {
      "application/3dmoljs_load.v0": "<div id=\"3dmolviewer_171272352483919\"  style=\"position: relative; width: 640px; height: 480px;\">\n        <p id=\"3dmolwarning_171272352483919\" style=\"background-color:#ffcccc;color:black\">3Dmol.js failed to load for some reason.  Please check your browser console for error messages.<br></p>\n        </div>\n<script>\n\nvar loadScriptAsync = function(uri){\n  return new Promise((resolve, reject) => {\n    //this is to ignore the existence of requirejs amd\n    var savedexports, savedmodule;\n    if (typeof exports !== 'undefined') savedexports = exports;\n    else exports = {}\n    if (typeof module !== 'undefined') savedmodule = module;\n    else module = {}\n\n    var tag = document.createElement('script');\n    tag.src = uri;\n    tag.async = true;\n    tag.onload = () => {\n        exports = savedexports;\n        module = savedmodule;\n        resolve();\n    };\n  var firstScriptTag = document.getElementsByTagName('script')[0];\n  firstScriptTag.parentNode.insertBefore(tag, firstScriptTag);\n});\n};\n\nif(typeof $3Dmolpromise === 'undefined') {\n$3Dmolpromise = null;\n  $3Dmolpromise = loadScriptAsync('https://cdnjs.cloudflare.com/ajax/libs/3Dmol/2.1.0/3Dmol-min.js');\n}\n\nvar viewer_171272352483919 = null;\nvar warn = document.getElementById(\"3dmolwarning_171272352483919\");\nif(warn) {\n    warn.parentNode.removeChild(warn);\n}\n$3Dmolpromise.then(function() {\nviewer_171272352483919 = $3Dmol.createViewer(document.getElementById(\"3dmolviewer_171272352483919\"),{backgroundColor:\"white\"});\nviewer_171272352483919.zoomTo();\n\tviewer_171272352483919.addModel(\"@<TRIPOS>MOLECULE\\nRES\\n8 7 1 0 1\\nSMALL\\nNO_CHARGES\\n@<TRIPOS>CRYSIN\\n    7.4426     7.1242     7.2804    90.0000    90.0000    90.0000 1 1\\n@<TRIPOS>ATOM\\n       1 C            0.7826     0.0070    -0.0131 C             1 RES     \\n       2 C           -0.7365    -0.0523    -0.0274 C             1 RES     \\n       3 F           -1.2478     1.1585    -0.4569 F             1 RES     \\n       4 F           -1.2060    -0.3208     1.2452 F             1 RES     \\n       5 H            1.1248     0.8087     0.6751 H             1 RES     \\n       6 H            1.1613     0.2198    -1.0351 H             1 RES     \\n       7 H            1.1948    -0.9657     0.3290 H             1 RES     \\n       8 H           -1.0732    -0.8551    -0.7168 H             1 RES     \\n@<TRIPOS>BOND\\n       1        1        2 1\\n       2        1        5 1\\n       3        1        6 1\\n       4        1        7 1\\n       5        2        3 1\\n       6        2        4 1\\n       7        2        8 1\\n@<TRIPOS>SUBSTRUCTURE\\n       1 RES             1 RESIDUE    0 **** ROOT      0\\n\",\"mol2\");\n\tviewer_171272352483919.setStyle({\"stick\": {\"radius\": 0.18, \"color\": \"grey\"}, \"sphere\": {\"scale\": 0.3, \"colorscheme\": {}}});\n\tviewer_171272352483919.zoomTo();\nviewer_171272352483919.render();\n});\n</script>",
      "text/html": [
       "<div id=\"3dmolviewer_171272352483919\"  style=\"position: relative; width: 640px; height: 480px;\">\n",
       "        <p id=\"3dmolwarning_171272352483919\" style=\"background-color:#ffcccc;color:black\">3Dmol.js failed to load for some reason.  Please check your browser console for error messages.<br></p>\n",
       "        </div>\n",
       "<script>\n",
       "\n",
       "var loadScriptAsync = function(uri){\n",
       "  return new Promise((resolve, reject) => {\n",
       "    //this is to ignore the existence of requirejs amd\n",
       "    var savedexports, savedmodule;\n",
       "    if (typeof exports !== 'undefined') savedexports = exports;\n",
       "    else exports = {}\n",
       "    if (typeof module !== 'undefined') savedmodule = module;\n",
       "    else module = {}\n",
       "\n",
       "    var tag = document.createElement('script');\n",
       "    tag.src = uri;\n",
       "    tag.async = true;\n",
       "    tag.onload = () => {\n",
       "        exports = savedexports;\n",
       "        module = savedmodule;\n",
       "        resolve();\n",
       "    };\n",
       "  var firstScriptTag = document.getElementsByTagName('script')[0];\n",
       "  firstScriptTag.parentNode.insertBefore(tag, firstScriptTag);\n",
       "});\n",
       "};\n",
       "\n",
       "if(typeof $3Dmolpromise === 'undefined') {\n",
       "$3Dmolpromise = null;\n",
       "  $3Dmolpromise = loadScriptAsync('https://cdnjs.cloudflare.com/ajax/libs/3Dmol/2.1.0/3Dmol-min.js');\n",
       "}\n",
       "\n",
       "var viewer_171272352483919 = null;\n",
       "var warn = document.getElementById(\"3dmolwarning_171272352483919\");\n",
       "if(warn) {\n",
       "    warn.parentNode.removeChild(warn);\n",
       "}\n",
       "$3Dmolpromise.then(function() {\n",
       "viewer_171272352483919 = $3Dmol.createViewer(document.getElementById(\"3dmolviewer_171272352483919\"),{backgroundColor:\"white\"});\n",
       "viewer_171272352483919.zoomTo();\n",
       "\tviewer_171272352483919.addModel(\"@<TRIPOS>MOLECULE\\nRES\\n8 7 1 0 1\\nSMALL\\nNO_CHARGES\\n@<TRIPOS>CRYSIN\\n    7.4426     7.1242     7.2804    90.0000    90.0000    90.0000 1 1\\n@<TRIPOS>ATOM\\n       1 C            0.7826     0.0070    -0.0131 C             1 RES     \\n       2 C           -0.7365    -0.0523    -0.0274 C             1 RES     \\n       3 F           -1.2478     1.1585    -0.4569 F             1 RES     \\n       4 F           -1.2060    -0.3208     1.2452 F             1 RES     \\n       5 H            1.1248     0.8087     0.6751 H             1 RES     \\n       6 H            1.1613     0.2198    -1.0351 H             1 RES     \\n       7 H            1.1948    -0.9657     0.3290 H             1 RES     \\n       8 H           -1.0732    -0.8551    -0.7168 H             1 RES     \\n@<TRIPOS>BOND\\n       1        1        2 1\\n       2        1        5 1\\n       3        1        6 1\\n       4        1        7 1\\n       5        2        3 1\\n       6        2        4 1\\n       7        2        8 1\\n@<TRIPOS>SUBSTRUCTURE\\n       1 RES             1 RESIDUE    0 **** ROOT      0\\n\",\"mol2\");\n",
       "\tviewer_171272352483919.setStyle({\"stick\": {\"radius\": 0.18, \"color\": \"grey\"}, \"sphere\": {\"scale\": 0.3, \"colorscheme\": {}}});\n",
       "\tviewer_171272352483919.zoomTo();\n",
       "viewer_171272352483919.render();\n",
       "});\n",
       "</script>"
      ]
     },
     "metadata": {},
     "output_type": "display_data"
    },
    {
     "data": {
      "text/plain": [
       "<py3Dmol.view at 0x16a1a9010>"
      ]
     },
     "execution_count": 14,
     "metadata": {},
     "output_type": "execute_result"
    }
   ],
   "source": [
    "smiles = \"C-C(F)F\"\n",
    "pvdf = mb.load(smiles, smiles=True)\n",
    "pvdf.visualize(backend=\"py3Dmol\")"
   ]
  },
  {
   "cell_type": "code",
   "execution_count": 16,
   "id": "0813592d-6339-4303-b7d7-2f30db2fdeeb",
   "metadata": {},
   "outputs": [
    {
     "data": {
      "application/3dmoljs_load.v0": "<div id=\"3dmolviewer_1712723533209707\"  style=\"position: relative; width: 640px; height: 480px;\">\n        <p id=\"3dmolwarning_1712723533209707\" style=\"background-color:#ffcccc;color:black\">3Dmol.js failed to load for some reason.  Please check your browser console for error messages.<br></p>\n        </div>\n<script>\n\nvar loadScriptAsync = function(uri){\n  return new Promise((resolve, reject) => {\n    //this is to ignore the existence of requirejs amd\n    var savedexports, savedmodule;\n    if (typeof exports !== 'undefined') savedexports = exports;\n    else exports = {}\n    if (typeof module !== 'undefined') savedmodule = module;\n    else module = {}\n\n    var tag = document.createElement('script');\n    tag.src = uri;\n    tag.async = true;\n    tag.onload = () => {\n        exports = savedexports;\n        module = savedmodule;\n        resolve();\n    };\n  var firstScriptTag = document.getElementsByTagName('script')[0];\n  firstScriptTag.parentNode.insertBefore(tag, firstScriptTag);\n});\n};\n\nif(typeof $3Dmolpromise === 'undefined') {\n$3Dmolpromise = null;\n  $3Dmolpromise = loadScriptAsync('https://cdnjs.cloudflare.com/ajax/libs/3Dmol/2.1.0/3Dmol-min.js');\n}\n\nvar viewer_1712723533209707 = null;\nvar warn = document.getElementById(\"3dmolwarning_1712723533209707\");\nif(warn) {\n    warn.parentNode.removeChild(warn);\n}\n$3Dmolpromise.then(function() {\nviewer_1712723533209707 = $3Dmol.createViewer(document.getElementById(\"3dmolviewer_1712723533209707\"),{backgroundColor:\"white\"});\nviewer_1712723533209707.zoomTo();\n\tviewer_1712723533209707.addModel(\"@<TRIPOS>MOLECULE\\nRES\\n32 31 1 0 1\\nSMALL\\nNO_CHARGES\\n@<TRIPOS>CRYSIN\\n   15.4325    11.9677    11.4130    90.0000    90.0000    90.0000 1 1\\n@<TRIPOS>ATOM\\n       1 C            0.7826     0.0070    -0.0131 C             1 RES     \\n       2 C           -0.7365    -0.0523    -0.0274 C             1 RES     \\n       3 F           -1.2478     1.1585    -0.4569 F             1 RES     \\n       4 F           -1.2060    -0.3208     1.2452 F             1 RES     \\n       5 H            1.1613     0.2198    -1.0351 H             1 RES     \\n       6 H            1.1948    -0.9657     0.3290 H             1 RES     \\n       7 C           -1.2217    -1.2090    -1.0207 C             1 RES     \\n       8 C           -2.7407    -1.2629    -1.0532 C             1 RES     \\n       9 F           -3.2422    -0.0518    -1.4933 F             1 RES     \\n      10 F           -3.2265    -1.5251     0.2146 F             1 RES     \\n      11 H           -0.8298    -1.0014    -2.0388 H             1 RES     \\n      12 H           -0.8172    -2.1820    -0.6701 H             1 RES     \\n      13 C           -3.2180    -2.4215    -2.0482 C             1 RES     \\n      14 C           -4.7367    -2.4700    -2.0990 C             1 RES     \\n      15 F           -5.2284    -1.2587    -2.5494 F             1 RES     \\n      16 F           -5.2388    -2.7257    -0.8362 F             1 RES     \\n      17 H           -2.8130    -2.2190    -3.0622 H             1 RES     \\n      18 H           -2.8214    -3.3946    -1.6892 H             1 RES     \\n      19 C           -5.2061    -3.6304    -3.0955 C             1 RES     \\n      20 C           -6.7243    -3.6736    -3.1645 C             1 RES     \\n      21 F           -7.2061    -2.4621    -3.6253 F             1 RES     \\n      22 F           -7.2426    -3.9229    -1.9071 F             1 RES     \\n      23 H           -4.7882    -3.4330    -4.1052 H             1 RES     \\n      24 H           -4.8175    -4.6037    -2.7282 H             1 RES     \\n      25 C           -7.1859    -4.8359    -4.1625 C             1 RES     \\n      26 C           -8.7032    -4.8738    -4.2498 C             1 RES     \\n      27 F           -9.1749    -3.6623    -4.7207 F             1 RES     \\n      28 F           -9.2377    -5.1167    -2.9979 F             1 RES     \\n      29 H           -6.7550    -4.6437    -5.1678 H             1 RES     \\n      30 H           -6.8053    -5.8092    -3.7871 H             1 RES     \\n      31 H            1.1196     0.7967     0.6649 H             1 RES     \\n      32 H           -9.0134    -5.6699    -4.9331 H             1 RES     \\n@<TRIPOS>BOND\\n       1        1        2 1\\n       2        1        5 1\\n       3        1        6 1\\n       4        1       31 1\\n       5        2        3 1\\n       6        2        4 1\\n       7        2        7 1\\n       8        7        8 1\\n       9        7       11 1\\n      10        7       12 1\\n      11        8        9 1\\n      12        8       10 1\\n      13        8       13 1\\n      14       13       14 1\\n      15       13       17 1\\n      16       13       18 1\\n      17       14       15 1\\n      18       14       16 1\\n      19       14       19 1\\n      20       19       20 1\\n      21       19       23 1\\n      22       19       24 1\\n      23       20       21 1\\n      24       20       22 1\\n      25       20       25 1\\n      26       25       26 1\\n      27       25       29 1\\n      28       25       30 1\\n      29       26       27 1\\n      30       26       28 1\\n      31       26       32 1\\n@<TRIPOS>SUBSTRUCTURE\\n       1 RES             1 RESIDUE    0 **** ROOT      0\\n\",\"mol2\");\n\tviewer_1712723533209707.setStyle({\"stick\": {\"radius\": 0.18, \"color\": \"grey\"}, \"sphere\": {\"scale\": 0.3, \"colorscheme\": {}}});\n\tviewer_1712723533209707.zoomTo();\nviewer_1712723533209707.render();\n});\n</script>",
      "text/html": [
       "<div id=\"3dmolviewer_1712723533209707\"  style=\"position: relative; width: 640px; height: 480px;\">\n",
       "        <p id=\"3dmolwarning_1712723533209707\" style=\"background-color:#ffcccc;color:black\">3Dmol.js failed to load for some reason.  Please check your browser console for error messages.<br></p>\n",
       "        </div>\n",
       "<script>\n",
       "\n",
       "var loadScriptAsync = function(uri){\n",
       "  return new Promise((resolve, reject) => {\n",
       "    //this is to ignore the existence of requirejs amd\n",
       "    var savedexports, savedmodule;\n",
       "    if (typeof exports !== 'undefined') savedexports = exports;\n",
       "    else exports = {}\n",
       "    if (typeof module !== 'undefined') savedmodule = module;\n",
       "    else module = {}\n",
       "\n",
       "    var tag = document.createElement('script');\n",
       "    tag.src = uri;\n",
       "    tag.async = true;\n",
       "    tag.onload = () => {\n",
       "        exports = savedexports;\n",
       "        module = savedmodule;\n",
       "        resolve();\n",
       "    };\n",
       "  var firstScriptTag = document.getElementsByTagName('script')[0];\n",
       "  firstScriptTag.parentNode.insertBefore(tag, firstScriptTag);\n",
       "});\n",
       "};\n",
       "\n",
       "if(typeof $3Dmolpromise === 'undefined') {\n",
       "$3Dmolpromise = null;\n",
       "  $3Dmolpromise = loadScriptAsync('https://cdnjs.cloudflare.com/ajax/libs/3Dmol/2.1.0/3Dmol-min.js');\n",
       "}\n",
       "\n",
       "var viewer_1712723533209707 = null;\n",
       "var warn = document.getElementById(\"3dmolwarning_1712723533209707\");\n",
       "if(warn) {\n",
       "    warn.parentNode.removeChild(warn);\n",
       "}\n",
       "$3Dmolpromise.then(function() {\n",
       "viewer_1712723533209707 = $3Dmol.createViewer(document.getElementById(\"3dmolviewer_1712723533209707\"),{backgroundColor:\"white\"});\n",
       "viewer_1712723533209707.zoomTo();\n",
       "\tviewer_1712723533209707.addModel(\"@<TRIPOS>MOLECULE\\nRES\\n32 31 1 0 1\\nSMALL\\nNO_CHARGES\\n@<TRIPOS>CRYSIN\\n   15.4325    11.9677    11.4130    90.0000    90.0000    90.0000 1 1\\n@<TRIPOS>ATOM\\n       1 C            0.7826     0.0070    -0.0131 C             1 RES     \\n       2 C           -0.7365    -0.0523    -0.0274 C             1 RES     \\n       3 F           -1.2478     1.1585    -0.4569 F             1 RES     \\n       4 F           -1.2060    -0.3208     1.2452 F             1 RES     \\n       5 H            1.1613     0.2198    -1.0351 H             1 RES     \\n       6 H            1.1948    -0.9657     0.3290 H             1 RES     \\n       7 C           -1.2217    -1.2090    -1.0207 C             1 RES     \\n       8 C           -2.7407    -1.2629    -1.0532 C             1 RES     \\n       9 F           -3.2422    -0.0518    -1.4933 F             1 RES     \\n      10 F           -3.2265    -1.5251     0.2146 F             1 RES     \\n      11 H           -0.8298    -1.0014    -2.0388 H             1 RES     \\n      12 H           -0.8172    -2.1820    -0.6701 H             1 RES     \\n      13 C           -3.2180    -2.4215    -2.0482 C             1 RES     \\n      14 C           -4.7367    -2.4700    -2.0990 C             1 RES     \\n      15 F           -5.2284    -1.2587    -2.5494 F             1 RES     \\n      16 F           -5.2388    -2.7257    -0.8362 F             1 RES     \\n      17 H           -2.8130    -2.2190    -3.0622 H             1 RES     \\n      18 H           -2.8214    -3.3946    -1.6892 H             1 RES     \\n      19 C           -5.2061    -3.6304    -3.0955 C             1 RES     \\n      20 C           -6.7243    -3.6736    -3.1645 C             1 RES     \\n      21 F           -7.2061    -2.4621    -3.6253 F             1 RES     \\n      22 F           -7.2426    -3.9229    -1.9071 F             1 RES     \\n      23 H           -4.7882    -3.4330    -4.1052 H             1 RES     \\n      24 H           -4.8175    -4.6037    -2.7282 H             1 RES     \\n      25 C           -7.1859    -4.8359    -4.1625 C             1 RES     \\n      26 C           -8.7032    -4.8738    -4.2498 C             1 RES     \\n      27 F           -9.1749    -3.6623    -4.7207 F             1 RES     \\n      28 F           -9.2377    -5.1167    -2.9979 F             1 RES     \\n      29 H           -6.7550    -4.6437    -5.1678 H             1 RES     \\n      30 H           -6.8053    -5.8092    -3.7871 H             1 RES     \\n      31 H            1.1196     0.7967     0.6649 H             1 RES     \\n      32 H           -9.0134    -5.6699    -4.9331 H             1 RES     \\n@<TRIPOS>BOND\\n       1        1        2 1\\n       2        1        5 1\\n       3        1        6 1\\n       4        1       31 1\\n       5        2        3 1\\n       6        2        4 1\\n       7        2        7 1\\n       8        7        8 1\\n       9        7       11 1\\n      10        7       12 1\\n      11        8        9 1\\n      12        8       10 1\\n      13        8       13 1\\n      14       13       14 1\\n      15       13       17 1\\n      16       13       18 1\\n      17       14       15 1\\n      18       14       16 1\\n      19       14       19 1\\n      20       19       20 1\\n      21       19       23 1\\n      22       19       24 1\\n      23       20       21 1\\n      24       20       22 1\\n      25       20       25 1\\n      26       25       26 1\\n      27       25       29 1\\n      28       25       30 1\\n      29       26       27 1\\n      30       26       28 1\\n      31       26       32 1\\n@<TRIPOS>SUBSTRUCTURE\\n       1 RES             1 RESIDUE    0 **** ROOT      0\\n\",\"mol2\");\n",
       "\tviewer_1712723533209707.setStyle({\"stick\": {\"radius\": 0.18, \"color\": \"grey\"}, \"sphere\": {\"scale\": 0.3, \"colorscheme\": {}}});\n",
       "\tviewer_1712723533209707.zoomTo();\n",
       "viewer_1712723533209707.render();\n",
       "});\n",
       "</script>"
      ]
     },
     "metadata": {},
     "output_type": "display_data"
    },
    {
     "data": {
      "text/plain": [
       "<py3Dmol.view at 0x156a51d90>"
      ]
     },
     "execution_count": 16,
     "metadata": {},
     "output_type": "execute_result"
    }
   ],
   "source": [
    "poly_pvdf = mbPolymer()\n",
    "poly_pvdf.add_monomer(compound=pvdf, indices=[4, -1], replace=True, separation=0.16)\n",
    "poly_pvdf.build(n=5)\n",
    "poly_pvdf.visualize()"
   ]
  },
  {
   "cell_type": "markdown",
   "id": "2851163e-2a0f-439c-8117-eab0d257cfb6",
   "metadata": {},
   "source": [
    "# Back in FlowerMD:"
   ]
  },
  {
   "cell_type": "code",
   "execution_count": 4,
   "id": "4489b160-2051-407a-9c49-7200536aaac8",
   "metadata": {},
   "outputs": [],
   "source": [
    "from flowermd.base import Polymer\n",
    "\n",
    "class PVDF(Polymer):\n",
    "    \"\"\"Polyvinylidene Fluoride\"\"\"\n",
    "    def __init__(self, lengths, num_mols):\n",
    "        smiles = \"C-C(F)F\"\n",
    "        bond_indices = [4, -1]\n",
    "        bond_length = 0.16\n",
    "        bond_orientation = [None, None]\n",
    "        super(PVDF, self).__init__(\n",
    "            lengths=lengths,\n",
    "            num_mols=num_mols,\n",
    "            smiles=smiles,\n",
    "            bond_indices=bond_indices,\n",
    "            bond_length=bond_length,\n",
    "            bond_orientation=bond_orientation\n",
    "        )"
   ]
  },
  {
   "cell_type": "code",
   "execution_count": 19,
   "id": "23b1d019-acd6-405a-b983-abaef4699100",
   "metadata": {},
   "outputs": [
    {
     "data": {
      "application/3dmoljs_load.v0": "<div id=\"3dmolviewer_1712723938725328\"  style=\"position: relative; width: 640px; height: 480px;\">\n        <p id=\"3dmolwarning_1712723938725328\" style=\"background-color:#ffcccc;color:black\">3Dmol.js failed to load for some reason.  Please check your browser console for error messages.<br></p>\n        </div>\n<script>\n\nvar loadScriptAsync = function(uri){\n  return new Promise((resolve, reject) => {\n    //this is to ignore the existence of requirejs amd\n    var savedexports, savedmodule;\n    if (typeof exports !== 'undefined') savedexports = exports;\n    else exports = {}\n    if (typeof module !== 'undefined') savedmodule = module;\n    else module = {}\n\n    var tag = document.createElement('script');\n    tag.src = uri;\n    tag.async = true;\n    tag.onload = () => {\n        exports = savedexports;\n        module = savedmodule;\n        resolve();\n    };\n  var firstScriptTag = document.getElementsByTagName('script')[0];\n  firstScriptTag.parentNode.insertBefore(tag, firstScriptTag);\n});\n};\n\nif(typeof $3Dmolpromise === 'undefined') {\n$3Dmolpromise = null;\n  $3Dmolpromise = loadScriptAsync('https://cdnjs.cloudflare.com/ajax/libs/3Dmol/2.1.0/3Dmol-min.js');\n}\n\nvar viewer_1712723938725328 = null;\nvar warn = document.getElementById(\"3dmolwarning_1712723938725328\");\nif(warn) {\n    warn.parentNode.removeChild(warn);\n}\n$3Dmolpromise.then(function() {\nviewer_1712723938725328 = $3Dmol.createViewer(document.getElementById(\"3dmolviewer_1712723938725328\"),{backgroundColor:\"white\"});\nviewer_1712723938725328.zoomTo();\n\tviewer_1712723938725328.addModel(\"@<TRIPOS>MOLECULE\\nRES\\n122 121 1 0 1\\nSMALL\\nNO_CHARGES\\n@<TRIPOS>CRYSIN\\n   44.1393    29.7040    29.7580    90.0000    90.0000    90.0000 1 1\\n@<TRIPOS>ATOM\\n       1 C            0.7826     0.0070    -0.0131 C             1 RES     \\n       2 C           -0.7365    -0.0523    -0.0274 C             1 RES     \\n       3 F           -1.2478     1.1585    -0.4569 F             1 RES     \\n       4 F           -1.2060    -0.3208     1.2452 F             1 RES     \\n       5 H            1.1613     0.2198    -1.0351 H             1 RES     \\n       6 H            1.1948    -0.9657     0.3290 H             1 RES     \\n       7 C           -1.2217    -1.2090    -1.0207 C             1 RES     \\n       8 C           -2.7407    -1.2629    -1.0532 C             1 RES     \\n       9 F           -3.2422    -0.0518    -1.4933 F             1 RES     \\n      10 F           -3.2265    -1.5251     0.2146 F             1 RES     \\n      11 H           -0.8298    -1.0014    -2.0388 H             1 RES     \\n      12 H           -0.8172    -2.1820    -0.6701 H             1 RES     \\n      13 C           -3.2180    -2.4215    -2.0482 C             1 RES     \\n      14 C           -4.7367    -2.4700    -2.0990 C             1 RES     \\n      15 F           -5.2284    -1.2587    -2.5494 F             1 RES     \\n      16 F           -5.2388    -2.7257    -0.8362 F             1 RES     \\n      17 H           -2.8130    -2.2190    -3.0622 H             1 RES     \\n      18 H           -2.8214    -3.3946    -1.6892 H             1 RES     \\n      19 C           -5.2061    -3.6304    -3.0955 C             1 RES     \\n      20 C           -6.7243    -3.6736    -3.1645 C             1 RES     \\n      21 F           -7.2061    -2.4621    -3.6253 F             1 RES     \\n      22 F           -7.2426    -3.9229    -1.9071 F             1 RES     \\n      23 H           -4.7882    -3.4330    -4.1052 H             1 RES     \\n      24 H           -4.8175    -4.6037    -2.7282 H             1 RES     \\n      25 C           -7.1859    -4.8359    -4.1625 C             1 RES     \\n      26 C           -8.7032    -4.8738    -4.2498 C             1 RES     \\n      27 F           -9.1749    -3.6623    -4.7207 F             1 RES     \\n      28 F           -9.2377    -5.1167    -2.9979 F             1 RES     \\n      29 H           -6.7550    -4.6437    -5.1678 H             1 RES     \\n      30 H           -6.8053    -5.8092    -3.7871 H             1 RES     \\n      31 C           -9.1569    -6.0381    -5.2491 C             1 RES     \\n      32 C          -10.6732    -6.0708    -5.3547 C             1 RES     \\n      33 F          -11.1347    -4.8593    -5.8357 F             1 RES     \\n      34 F          -11.2237    -6.3072    -4.1085 F             1 RES     \\n      35 H           -8.7131    -5.8511    -6.2498 H             1 RES     \\n      36 H           -8.7845    -7.0114    -4.8656 H             1 RES     \\n      37 C          -11.1190    -7.2370    -6.3553 C             1 RES     \\n      38 C          -12.6341    -7.2646    -6.4792 C             1 RES     \\n      39 F          -13.0852    -6.0532    -6.9701 F             1 RES     \\n      40 F          -13.2005    -7.4945    -5.2389 F             1 RES     \\n      41 H          -10.6625    -7.0553    -7.3512 H             1 RES     \\n      42 H          -10.7549    -8.2103    -5.9638 H             1 RES     \\n      43 C          -13.0720    -8.4329    -7.4809 C             1 RES     \\n      44 C          -14.5855    -8.4554    -7.6231 C             1 RES     \\n      45 F          -15.0262    -7.2442    -8.1238 F             1 RES     \\n      46 F          -15.1678    -8.6787    -6.3889 F             1 RES     \\n      47 H          -12.6027    -8.2564    -8.4718 H             1 RES     \\n      48 H          -12.7162    -9.4060    -7.0815 H             1 RES     \\n      49 C          -15.0155    -9.6257    -8.6258 C             1 RES     \\n      50 C          -16.5273    -9.6433    -8.7863 C             1 RES     \\n      51 F          -16.9575    -8.4323    -9.2966 F             1 RES     \\n      52 F          -17.1253    -9.8599    -7.5585 F             1 RES     \\n      53 H          -14.5336    -9.4546    -9.6116 H             1 RES     \\n      54 H          -14.6682   -10.5987    -8.2187 H             1 RES     \\n      55 C          -16.9494   -10.8156    -9.7900 C             1 RES     \\n      56 C          -18.4592   -10.8283    -9.9687 C             1 RES     \\n      57 F          -18.8786    -9.6176   -10.4886 F             1 RES     \\n      58 F          -19.0728   -11.0383    -8.7476 F             1 RES     \\n      59 H          -16.4550   -10.6498   -10.7704 H             1 RES     \\n      60 H          -16.6106   -11.7884    -9.3751 H             1 RES     \\n      61 C          -18.8734   -12.0027   -10.9733 C             1 RES     \\n      62 C          -20.3809   -12.0106   -11.1703 C             1 RES     \\n      63 F          -20.7896   -10.8003   -11.6996 F             1 RES     \\n      64 F          -21.0101   -12.2139    -9.9559 F             1 RES     \\n      65 H          -18.3665   -11.8423   -11.9482 H             1 RES     \\n      66 H          -18.5432   -12.9752   -10.5508 H             1 RES     \\n      67 C          -20.7872   -13.1872   -12.1756 C             1 RES     \\n      68 C          -22.2922   -13.1903   -12.3908 C             1 RES     \\n      69 F          -22.6900   -11.9804   -12.9294 F             1 RES     \\n      70 F          -22.9369   -13.3869   -11.1835 F             1 RES     \\n      71 H          -20.2679   -13.0321   -13.1448 H             1 RES     \\n      72 H          -20.4657   -14.1593   -11.7456 H             1 RES     \\n      73 C          -22.6906   -14.3690   -13.3967 C             1 RES     \\n      74 C          -24.1929   -14.3674   -13.6303 C             1 RES     \\n      75 F          -24.5797   -13.1581   -14.1779 F             1 RES     \\n      76 F          -24.8529   -14.5573   -12.4301 F             1 RES     \\n      77 H          -22.1590   -14.2194   -14.3602 H             1 RES     \\n      78 H          -22.3780   -15.3407   -12.9595 H             1 RES     \\n      79 C          -24.5834   -15.5484   -14.6367 C             1 RES     \\n      80 C          -26.0828   -15.5422   -14.8884 C             1 RES     \\n      81 F          -26.4584   -14.3335   -15.4451 F             1 RES     \\n      82 F          -26.7579   -15.7253   -13.6957 F             1 RES     \\n      83 H          -24.0396   -15.4042   -15.5941 H             1 RES     \\n      84 H          -24.2797   -16.5196   -14.1921 H             1 RES     \\n      85 C          -26.4654   -16.7253   -15.8953 C             1 RES     \\n      86 C          -27.9615   -16.7146   -16.1652 C             1 RES     \\n      87 F          -28.3260   -15.5066   -16.7308 F             1 RES     \\n      88 F          -28.6518   -16.8910   -14.9802 F             1 RES     \\n      89 H          -25.9095   -16.5866   -16.8466 H             1 RES     \\n      90 H          -26.1706   -17.6961   -15.4436 H             1 RES     \\n      91 C          -28.3362   -17.9000   -17.1724 C             1 RES     \\n      92 C          -29.8289   -17.8849   -17.4606 C             1 RES     \\n      93 F          -30.1820   -16.6776   -18.0348 F             1 RES     \\n      94 F          -30.5342   -18.0544   -16.2833 F             1 RES     \\n      95 H          -27.7683   -17.7668   -18.1174 H             1 RES     \\n      96 H          -28.0505   -18.8702   -16.7137 H             1 RES     \\n      97 C          -30.1957   -19.0726   -18.4679 C             1 RES     \\n      98 C          -31.6848   -19.0531   -18.7742 C             1 RES     \\n      99 F          -32.0265   -17.8466   -19.3571 F             1 RES     \\n     100 F          -32.4048   -19.2158   -17.6050 F             1 RES     \\n     101 H          -29.6159   -18.9449   -19.4064 H             1 RES     \\n     102 H          -29.9192   -20.0421   -18.0023 H             1 RES     \\n     103 C          -32.0437   -20.2431   -19.7817 C             1 RES     \\n     104 C          -33.5288   -20.2193   -20.1062 C             1 RES     \\n     105 F          -33.8590   -19.0137   -20.6974 F             1 RES     \\n     106 F          -34.2636   -20.3751   -18.9452 F             1 RES     \\n     107 H          -31.4521   -20.1209   -20.7135 H             1 RES     \\n     108 H          -31.7764   -21.2119   -19.3093 H             1 RES     \\n     109 C          -33.8799   -21.4116   -21.1136 C             1 RES     \\n     110 C          -35.3608   -21.3836   -21.4562 C             1 RES     \\n     111 F          -35.6794   -20.1790   -22.0558 F             1 RES     \\n     112 F          -36.1102   -21.5325   -20.3037 F             1 RES     \\n     113 H          -33.2766   -21.2950   -22.0386 H             1 RES     \\n     114 H          -33.6218   -22.3797   -20.6345 H             1 RES     \\n     115 C          -35.7040   -22.5784   -22.4635 C             1 RES     \\n     116 C          -37.1806   -22.5462   -22.8241 C             1 RES     \\n     117 F          -37.4874   -21.3426   -23.4319 F             1 RES     \\n     118 F          -37.9445   -22.6882   -21.6803 F             1 RES     \\n     119 H          -35.0891   -22.4672   -23.3815 H             1 RES     \\n     120 H          -35.4554   -23.5456   -21.9779 H             1 RES     \\n     121 H            1.1196     0.7967     0.6649 H             1 RES     \\n     122 H          -37.4099   -23.3647   -23.5128 H             1 RES     \\n@<TRIPOS>BOND\\n       1        1        2 1\\n       2        1        5 1\\n       3        1        6 1\\n       4        1      121 1\\n       5        2        3 1\\n       6        2        4 1\\n       7        2        7 1\\n       8        7        8 1\\n       9        7       11 1\\n      10        7       12 1\\n      11        8        9 1\\n      12        8       10 1\\n      13        8       13 1\\n      14       13       14 1\\n      15       13       17 1\\n      16       13       18 1\\n      17       14       15 1\\n      18       14       16 1\\n      19       14       19 1\\n      20       19       20 1\\n      21       19       23 1\\n      22       19       24 1\\n      23       20       21 1\\n      24       20       22 1\\n      25       20       25 1\\n      26       25       26 1\\n      27       25       29 1\\n      28       25       30 1\\n      29       26       27 1\\n      30       26       28 1\\n      31       26       31 1\\n      32       31       32 1\\n      33       31       35 1\\n      34       31       36 1\\n      35       32       33 1\\n      36       32       34 1\\n      37       32       37 1\\n      38       37       38 1\\n      39       37       41 1\\n      40       37       42 1\\n      41       38       39 1\\n      42       38       40 1\\n      43       38       43 1\\n      44       43       44 1\\n      45       43       47 1\\n      46       43       48 1\\n      47       44       45 1\\n      48       44       46 1\\n      49       44       49 1\\n      50       49       50 1\\n      51       49       53 1\\n      52       49       54 1\\n      53       50       51 1\\n      54       50       52 1\\n      55       50       55 1\\n      56       55       56 1\\n      57       55       59 1\\n      58       55       60 1\\n      59       56       57 1\\n      60       56       58 1\\n      61       56       61 1\\n      62       61       62 1\\n      63       61       65 1\\n      64       61       66 1\\n      65       62       63 1\\n      66       62       64 1\\n      67       62       67 1\\n      68       67       68 1\\n      69       67       71 1\\n      70       67       72 1\\n      71       68       69 1\\n      72       68       70 1\\n      73       68       73 1\\n      74       73       74 1\\n      75       73       77 1\\n      76       73       78 1\\n      77       74       75 1\\n      78       74       76 1\\n      79       74       79 1\\n      80       79       80 1\\n      81       79       83 1\\n      82       79       84 1\\n      83       80       81 1\\n      84       80       82 1\\n      85       80       85 1\\n      86       85       86 1\\n      87       85       89 1\\n      88       85       90 1\\n      89       86       87 1\\n      90       86       88 1\\n      91       86       91 1\\n      92       91       92 1\\n      93       91       95 1\\n      94       91       96 1\\n      95       92       93 1\\n      96       92       94 1\\n      97       92       97 1\\n      98       97       98 1\\n      99       97      101 1\\n     100       97      102 1\\n     101       98       99 1\\n     102       98      100 1\\n     103       98      103 1\\n     104      103      104 1\\n     105      103      107 1\\n     106      103      108 1\\n     107      104      105 1\\n     108      104      106 1\\n     109      104      109 1\\n     110      109      110 1\\n     111      109      113 1\\n     112      109      114 1\\n     113      110      111 1\\n     114      110      112 1\\n     115      110      115 1\\n     116      115      116 1\\n     117      115      119 1\\n     118      115      120 1\\n     119      116      117 1\\n     120      116      118 1\\n     121      116      122 1\\n@<TRIPOS>SUBSTRUCTURE\\n       1 RES             1 RESIDUE    0 **** ROOT      0\\n\",\"mol2\");\n\tviewer_1712723938725328.setStyle({\"stick\": {\"radius\": 0.18, \"color\": \"grey\"}, \"sphere\": {\"scale\": 0.3, \"colorscheme\": {}}});\n\tviewer_1712723938725328.zoomTo();\nviewer_1712723938725328.render();\n});\n</script>",
      "text/html": [
       "<div id=\"3dmolviewer_1712723938725328\"  style=\"position: relative; width: 640px; height: 480px;\">\n",
       "        <p id=\"3dmolwarning_1712723938725328\" style=\"background-color:#ffcccc;color:black\">3Dmol.js failed to load for some reason.  Please check your browser console for error messages.<br></p>\n",
       "        </div>\n",
       "<script>\n",
       "\n",
       "var loadScriptAsync = function(uri){\n",
       "  return new Promise((resolve, reject) => {\n",
       "    //this is to ignore the existence of requirejs amd\n",
       "    var savedexports, savedmodule;\n",
       "    if (typeof exports !== 'undefined') savedexports = exports;\n",
       "    else exports = {}\n",
       "    if (typeof module !== 'undefined') savedmodule = module;\n",
       "    else module = {}\n",
       "\n",
       "    var tag = document.createElement('script');\n",
       "    tag.src = uri;\n",
       "    tag.async = true;\n",
       "    tag.onload = () => {\n",
       "        exports = savedexports;\n",
       "        module = savedmodule;\n",
       "        resolve();\n",
       "    };\n",
       "  var firstScriptTag = document.getElementsByTagName('script')[0];\n",
       "  firstScriptTag.parentNode.insertBefore(tag, firstScriptTag);\n",
       "});\n",
       "};\n",
       "\n",
       "if(typeof $3Dmolpromise === 'undefined') {\n",
       "$3Dmolpromise = null;\n",
       "  $3Dmolpromise = loadScriptAsync('https://cdnjs.cloudflare.com/ajax/libs/3Dmol/2.1.0/3Dmol-min.js');\n",
       "}\n",
       "\n",
       "var viewer_1712723938725328 = null;\n",
       "var warn = document.getElementById(\"3dmolwarning_1712723938725328\");\n",
       "if(warn) {\n",
       "    warn.parentNode.removeChild(warn);\n",
       "}\n",
       "$3Dmolpromise.then(function() {\n",
       "viewer_1712723938725328 = $3Dmol.createViewer(document.getElementById(\"3dmolviewer_1712723938725328\"),{backgroundColor:\"white\"});\n",
       "viewer_1712723938725328.zoomTo();\n",
       "\tviewer_1712723938725328.addModel(\"@<TRIPOS>MOLECULE\\nRES\\n122 121 1 0 1\\nSMALL\\nNO_CHARGES\\n@<TRIPOS>CRYSIN\\n   44.1393    29.7040    29.7580    90.0000    90.0000    90.0000 1 1\\n@<TRIPOS>ATOM\\n       1 C            0.7826     0.0070    -0.0131 C             1 RES     \\n       2 C           -0.7365    -0.0523    -0.0274 C             1 RES     \\n       3 F           -1.2478     1.1585    -0.4569 F             1 RES     \\n       4 F           -1.2060    -0.3208     1.2452 F             1 RES     \\n       5 H            1.1613     0.2198    -1.0351 H             1 RES     \\n       6 H            1.1948    -0.9657     0.3290 H             1 RES     \\n       7 C           -1.2217    -1.2090    -1.0207 C             1 RES     \\n       8 C           -2.7407    -1.2629    -1.0532 C             1 RES     \\n       9 F           -3.2422    -0.0518    -1.4933 F             1 RES     \\n      10 F           -3.2265    -1.5251     0.2146 F             1 RES     \\n      11 H           -0.8298    -1.0014    -2.0388 H             1 RES     \\n      12 H           -0.8172    -2.1820    -0.6701 H             1 RES     \\n      13 C           -3.2180    -2.4215    -2.0482 C             1 RES     \\n      14 C           -4.7367    -2.4700    -2.0990 C             1 RES     \\n      15 F           -5.2284    -1.2587    -2.5494 F             1 RES     \\n      16 F           -5.2388    -2.7257    -0.8362 F             1 RES     \\n      17 H           -2.8130    -2.2190    -3.0622 H             1 RES     \\n      18 H           -2.8214    -3.3946    -1.6892 H             1 RES     \\n      19 C           -5.2061    -3.6304    -3.0955 C             1 RES     \\n      20 C           -6.7243    -3.6736    -3.1645 C             1 RES     \\n      21 F           -7.2061    -2.4621    -3.6253 F             1 RES     \\n      22 F           -7.2426    -3.9229    -1.9071 F             1 RES     \\n      23 H           -4.7882    -3.4330    -4.1052 H             1 RES     \\n      24 H           -4.8175    -4.6037    -2.7282 H             1 RES     \\n      25 C           -7.1859    -4.8359    -4.1625 C             1 RES     \\n      26 C           -8.7032    -4.8738    -4.2498 C             1 RES     \\n      27 F           -9.1749    -3.6623    -4.7207 F             1 RES     \\n      28 F           -9.2377    -5.1167    -2.9979 F             1 RES     \\n      29 H           -6.7550    -4.6437    -5.1678 H             1 RES     \\n      30 H           -6.8053    -5.8092    -3.7871 H             1 RES     \\n      31 C           -9.1569    -6.0381    -5.2491 C             1 RES     \\n      32 C          -10.6732    -6.0708    -5.3547 C             1 RES     \\n      33 F          -11.1347    -4.8593    -5.8357 F             1 RES     \\n      34 F          -11.2237    -6.3072    -4.1085 F             1 RES     \\n      35 H           -8.7131    -5.8511    -6.2498 H             1 RES     \\n      36 H           -8.7845    -7.0114    -4.8656 H             1 RES     \\n      37 C          -11.1190    -7.2370    -6.3553 C             1 RES     \\n      38 C          -12.6341    -7.2646    -6.4792 C             1 RES     \\n      39 F          -13.0852    -6.0532    -6.9701 F             1 RES     \\n      40 F          -13.2005    -7.4945    -5.2389 F             1 RES     \\n      41 H          -10.6625    -7.0553    -7.3512 H             1 RES     \\n      42 H          -10.7549    -8.2103    -5.9638 H             1 RES     \\n      43 C          -13.0720    -8.4329    -7.4809 C             1 RES     \\n      44 C          -14.5855    -8.4554    -7.6231 C             1 RES     \\n      45 F          -15.0262    -7.2442    -8.1238 F             1 RES     \\n      46 F          -15.1678    -8.6787    -6.3889 F             1 RES     \\n      47 H          -12.6027    -8.2564    -8.4718 H             1 RES     \\n      48 H          -12.7162    -9.4060    -7.0815 H             1 RES     \\n      49 C          -15.0155    -9.6257    -8.6258 C             1 RES     \\n      50 C          -16.5273    -9.6433    -8.7863 C             1 RES     \\n      51 F          -16.9575    -8.4323    -9.2966 F             1 RES     \\n      52 F          -17.1253    -9.8599    -7.5585 F             1 RES     \\n      53 H          -14.5336    -9.4546    -9.6116 H             1 RES     \\n      54 H          -14.6682   -10.5987    -8.2187 H             1 RES     \\n      55 C          -16.9494   -10.8156    -9.7900 C             1 RES     \\n      56 C          -18.4592   -10.8283    -9.9687 C             1 RES     \\n      57 F          -18.8786    -9.6176   -10.4886 F             1 RES     \\n      58 F          -19.0728   -11.0383    -8.7476 F             1 RES     \\n      59 H          -16.4550   -10.6498   -10.7704 H             1 RES     \\n      60 H          -16.6106   -11.7884    -9.3751 H             1 RES     \\n      61 C          -18.8734   -12.0027   -10.9733 C             1 RES     \\n      62 C          -20.3809   -12.0106   -11.1703 C             1 RES     \\n      63 F          -20.7896   -10.8003   -11.6996 F             1 RES     \\n      64 F          -21.0101   -12.2139    -9.9559 F             1 RES     \\n      65 H          -18.3665   -11.8423   -11.9482 H             1 RES     \\n      66 H          -18.5432   -12.9752   -10.5508 H             1 RES     \\n      67 C          -20.7872   -13.1872   -12.1756 C             1 RES     \\n      68 C          -22.2922   -13.1903   -12.3908 C             1 RES     \\n      69 F          -22.6900   -11.9804   -12.9294 F             1 RES     \\n      70 F          -22.9369   -13.3869   -11.1835 F             1 RES     \\n      71 H          -20.2679   -13.0321   -13.1448 H             1 RES     \\n      72 H          -20.4657   -14.1593   -11.7456 H             1 RES     \\n      73 C          -22.6906   -14.3690   -13.3967 C             1 RES     \\n      74 C          -24.1929   -14.3674   -13.6303 C             1 RES     \\n      75 F          -24.5797   -13.1581   -14.1779 F             1 RES     \\n      76 F          -24.8529   -14.5573   -12.4301 F             1 RES     \\n      77 H          -22.1590   -14.2194   -14.3602 H             1 RES     \\n      78 H          -22.3780   -15.3407   -12.9595 H             1 RES     \\n      79 C          -24.5834   -15.5484   -14.6367 C             1 RES     \\n      80 C          -26.0828   -15.5422   -14.8884 C             1 RES     \\n      81 F          -26.4584   -14.3335   -15.4451 F             1 RES     \\n      82 F          -26.7579   -15.7253   -13.6957 F             1 RES     \\n      83 H          -24.0396   -15.4042   -15.5941 H             1 RES     \\n      84 H          -24.2797   -16.5196   -14.1921 H             1 RES     \\n      85 C          -26.4654   -16.7253   -15.8953 C             1 RES     \\n      86 C          -27.9615   -16.7146   -16.1652 C             1 RES     \\n      87 F          -28.3260   -15.5066   -16.7308 F             1 RES     \\n      88 F          -28.6518   -16.8910   -14.9802 F             1 RES     \\n      89 H          -25.9095   -16.5866   -16.8466 H             1 RES     \\n      90 H          -26.1706   -17.6961   -15.4436 H             1 RES     \\n      91 C          -28.3362   -17.9000   -17.1724 C             1 RES     \\n      92 C          -29.8289   -17.8849   -17.4606 C             1 RES     \\n      93 F          -30.1820   -16.6776   -18.0348 F             1 RES     \\n      94 F          -30.5342   -18.0544   -16.2833 F             1 RES     \\n      95 H          -27.7683   -17.7668   -18.1174 H             1 RES     \\n      96 H          -28.0505   -18.8702   -16.7137 H             1 RES     \\n      97 C          -30.1957   -19.0726   -18.4679 C             1 RES     \\n      98 C          -31.6848   -19.0531   -18.7742 C             1 RES     \\n      99 F          -32.0265   -17.8466   -19.3571 F             1 RES     \\n     100 F          -32.4048   -19.2158   -17.6050 F             1 RES     \\n     101 H          -29.6159   -18.9449   -19.4064 H             1 RES     \\n     102 H          -29.9192   -20.0421   -18.0023 H             1 RES     \\n     103 C          -32.0437   -20.2431   -19.7817 C             1 RES     \\n     104 C          -33.5288   -20.2193   -20.1062 C             1 RES     \\n     105 F          -33.8590   -19.0137   -20.6974 F             1 RES     \\n     106 F          -34.2636   -20.3751   -18.9452 F             1 RES     \\n     107 H          -31.4521   -20.1209   -20.7135 H             1 RES     \\n     108 H          -31.7764   -21.2119   -19.3093 H             1 RES     \\n     109 C          -33.8799   -21.4116   -21.1136 C             1 RES     \\n     110 C          -35.3608   -21.3836   -21.4562 C             1 RES     \\n     111 F          -35.6794   -20.1790   -22.0558 F             1 RES     \\n     112 F          -36.1102   -21.5325   -20.3037 F             1 RES     \\n     113 H          -33.2766   -21.2950   -22.0386 H             1 RES     \\n     114 H          -33.6218   -22.3797   -20.6345 H             1 RES     \\n     115 C          -35.7040   -22.5784   -22.4635 C             1 RES     \\n     116 C          -37.1806   -22.5462   -22.8241 C             1 RES     \\n     117 F          -37.4874   -21.3426   -23.4319 F             1 RES     \\n     118 F          -37.9445   -22.6882   -21.6803 F             1 RES     \\n     119 H          -35.0891   -22.4672   -23.3815 H             1 RES     \\n     120 H          -35.4554   -23.5456   -21.9779 H             1 RES     \\n     121 H            1.1196     0.7967     0.6649 H             1 RES     \\n     122 H          -37.4099   -23.3647   -23.5128 H             1 RES     \\n@<TRIPOS>BOND\\n       1        1        2 1\\n       2        1        5 1\\n       3        1        6 1\\n       4        1      121 1\\n       5        2        3 1\\n       6        2        4 1\\n       7        2        7 1\\n       8        7        8 1\\n       9        7       11 1\\n      10        7       12 1\\n      11        8        9 1\\n      12        8       10 1\\n      13        8       13 1\\n      14       13       14 1\\n      15       13       17 1\\n      16       13       18 1\\n      17       14       15 1\\n      18       14       16 1\\n      19       14       19 1\\n      20       19       20 1\\n      21       19       23 1\\n      22       19       24 1\\n      23       20       21 1\\n      24       20       22 1\\n      25       20       25 1\\n      26       25       26 1\\n      27       25       29 1\\n      28       25       30 1\\n      29       26       27 1\\n      30       26       28 1\\n      31       26       31 1\\n      32       31       32 1\\n      33       31       35 1\\n      34       31       36 1\\n      35       32       33 1\\n      36       32       34 1\\n      37       32       37 1\\n      38       37       38 1\\n      39       37       41 1\\n      40       37       42 1\\n      41       38       39 1\\n      42       38       40 1\\n      43       38       43 1\\n      44       43       44 1\\n      45       43       47 1\\n      46       43       48 1\\n      47       44       45 1\\n      48       44       46 1\\n      49       44       49 1\\n      50       49       50 1\\n      51       49       53 1\\n      52       49       54 1\\n      53       50       51 1\\n      54       50       52 1\\n      55       50       55 1\\n      56       55       56 1\\n      57       55       59 1\\n      58       55       60 1\\n      59       56       57 1\\n      60       56       58 1\\n      61       56       61 1\\n      62       61       62 1\\n      63       61       65 1\\n      64       61       66 1\\n      65       62       63 1\\n      66       62       64 1\\n      67       62       67 1\\n      68       67       68 1\\n      69       67       71 1\\n      70       67       72 1\\n      71       68       69 1\\n      72       68       70 1\\n      73       68       73 1\\n      74       73       74 1\\n      75       73       77 1\\n      76       73       78 1\\n      77       74       75 1\\n      78       74       76 1\\n      79       74       79 1\\n      80       79       80 1\\n      81       79       83 1\\n      82       79       84 1\\n      83       80       81 1\\n      84       80       82 1\\n      85       80       85 1\\n      86       85       86 1\\n      87       85       89 1\\n      88       85       90 1\\n      89       86       87 1\\n      90       86       88 1\\n      91       86       91 1\\n      92       91       92 1\\n      93       91       95 1\\n      94       91       96 1\\n      95       92       93 1\\n      96       92       94 1\\n      97       92       97 1\\n      98       97       98 1\\n      99       97      101 1\\n     100       97      102 1\\n     101       98       99 1\\n     102       98      100 1\\n     103       98      103 1\\n     104      103      104 1\\n     105      103      107 1\\n     106      103      108 1\\n     107      104      105 1\\n     108      104      106 1\\n     109      104      109 1\\n     110      109      110 1\\n     111      109      113 1\\n     112      109      114 1\\n     113      110      111 1\\n     114      110      112 1\\n     115      110      115 1\\n     116      115      116 1\\n     117      115      119 1\\n     118      115      120 1\\n     119      116      117 1\\n     120      116      118 1\\n     121      116      122 1\\n@<TRIPOS>SUBSTRUCTURE\\n       1 RES             1 RESIDUE    0 **** ROOT      0\\n\",\"mol2\");\n",
       "\tviewer_1712723938725328.setStyle({\"stick\": {\"radius\": 0.18, \"color\": \"grey\"}, \"sphere\": {\"scale\": 0.3, \"colorscheme\": {}}});\n",
       "\tviewer_1712723938725328.zoomTo();\n",
       "viewer_1712723938725328.render();\n",
       "});\n",
       "</script>"
      ]
     },
     "metadata": {},
     "output_type": "display_data"
    },
    {
     "data": {
      "text/plain": [
       "<py3Dmol.view at 0x16d91ad90>"
      ]
     },
     "execution_count": 19,
     "metadata": {},
     "output_type": "execute_result"
    }
   ],
   "source": [
    "pvdf = PVDF(num_mols=10, lengths=20)\n",
    "pvdf.molecules[9].visualize()"
   ]
  },
  {
   "cell_type": "code",
   "execution_count": 6,
   "id": "4927eb62-f9a7-436e-81da-7c289e9e58e2",
   "metadata": {},
   "outputs": [],
   "source": [
    "from flowermd.library.polymers import PVDF\n",
    "from flowermd.library.forcefields import GAFF\n",
    "from flowermd.base import Pack"
   ]
  },
  {
   "cell_type": "code",
   "execution_count": 7,
   "id": "a1e326e4-060f-4644-b370-a2d2afa7b70d",
   "metadata": {},
   "outputs": [
    {
     "name": "stdout",
     "output_type": "stream",
     "text": [
      "No charged group detected, skipping electrostatics.\n"
     ]
    }
   ],
   "source": [
    "pvdf = PVDF(num_mols=10, lengths=20)\n",
    "system = Pack(molecules=pvdf, density=1.27)\n",
    "system.apply_forcefield(force_field=GAFF(), r_cut=2.5, auto_scale=True)"
   ]
  },
  {
   "cell_type": "code",
   "execution_count": 8,
   "id": "c4fc816b-bac9-47c4-988a-51b2ca81d58d",
   "metadata": {},
   "outputs": [],
   "source": [
    "from flowermd.modules.welding import SlabSimulation"
   ]
  },
  {
   "cell_type": "code",
   "execution_count": 10,
   "id": "69b2b61b-eb92-4002-af4c-8dc032366d75",
   "metadata": {},
   "outputs": [
    {
     "name": "stdout",
     "output_type": "stream",
     "text": [
      "Initializing simulation state from a gsd.hoomd.Frame.\n"
     ]
    }
   ],
   "source": [
    "slab_sim = SlabSimulation(initial_state=system.hoomd_snapshot, forcefield=system.hoomd_forcefield, interface_axis=(1, 0, 0))"
   ]
  },
  {
   "cell_type": "code",
   "execution_count": null,
   "id": "f9e243ae-826e-4b6f-87b4-1a42cf2fb8a6",
   "metadata": {},
   "outputs": [],
   "source": []
  },
  {
   "cell_type": "code",
   "execution_count": null,
   "id": "f1e7f9f9-70c3-4523-90c7-9f036dbd8c93",
   "metadata": {},
   "outputs": [],
   "source": [
    "slab_sim.run_NVT(n_steps=100, tau_kt=100*slab_sim.dt, kT=4.0)"
   ]
  }
 ],
 "metadata": {
  "kernelspec": {
   "display_name": "Python 3 (ipykernel)",
   "language": "python",
   "name": "python3"
  },
  "language_info": {
   "codemirror_mode": {
    "name": "ipython",
    "version": 3
   },
   "file_extension": ".py",
   "mimetype": "text/x-python",
   "name": "python",
   "nbconvert_exporter": "python",
   "pygments_lexer": "ipython3",
   "version": "3.11.0"
  }
 },
 "nbformat": 4,
 "nbformat_minor": 5
}
