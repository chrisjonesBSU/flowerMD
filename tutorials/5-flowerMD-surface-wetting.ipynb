{
 "cells": [
  {
   "cell_type": "markdown",
   "id": "1bc89047",
   "metadata": {
    "collapsed": false,
    "jupyter": {
     "outputs_hidden": false
    }
   },
   "source": [
    "# Running a Surface wetting Workflow with flowerMD"
   ]
  },
  {
   "cell_type": "markdown",
   "id": "b387f315",
   "metadata": {
    "collapsed": false,
    "jupyter": {
     "outputs_hidden": false
    }
   },
   "source": [
    "## Overview:\n",
    "\n",
    "This notebook demonstrates how to run a surface wetting workflow with flowerMD. For demonstration purposes, we will create a Poly(ethylene) droplet on a graphene surface. The workflow consists of the following steps:\n",
    "\n",
    "1. Create a droplet of the polymer melt\n",
    "2. Create a graphene surface\n",
    "3. Combine the droplet and surface into a single system\n",
    "4. Run wetting simulation"
   ]
  },
  {
   "cell_type": "markdown",
   "id": "50052606",
   "metadata": {
    "collapsed": false,
    "jupyter": {
     "outputs_hidden": false
    }
   },
   "source": [
    "## Step 1: Create a droplet\n",
    "\n",
    "Let's start by creating a Poly(ethylene) droplet. We will use the `PolyEthylene` class from the `flowermd.library.polymers` module to create a Poly(ethylene) melt. We will then use the `Pack` class from the `flowermd.base.system` module to create the system.\n",
    "\n",
    "Next step is to start the droplet simulation by using the `DropletSimulation` class from the `flowermd.modules.surface_wetting` module. We will use the `DropletSimulation.from_system` method to create the simulation object from the system object. This method will automatically create the simulation object with the correct parameters for the droplet simulation."
   ]
  },
  {
   "cell_type": "code",
   "execution_count": 1,
   "id": "a5c5578f",
   "metadata": {
    "collapsed": false,
    "jupyter": {
     "outputs_hidden": false
    }
   },
   "outputs": [],
   "source": [
    "from cmeutils.visualize import FresnelGSD\n",
    "import unyt\n",
    "import warnings\n",
    "import os\n",
    "\n",
    "warnings.filterwarnings('ignore')"
   ]
  },
  {
   "cell_type": "code",
   "execution_count": 2,
   "id": "03fb3c31-28c5-4520-a85e-b9828f20c2e4",
   "metadata": {},
   "outputs": [
    {
     "name": "stderr",
     "output_type": "stream",
     "text": [
      "/home/chris/miniconda3/envs/flowermd-dev/lib/python3.11/site-packages/mdtraj/formats/__init__.py:6: DeprecationWarning: 'xdrlib' is deprecated and slated for removal in Python 3.13\n",
      "  from .xtc import XTCTrajectoryFile\n",
      "/home/chris/miniconda3/envs/flowermd-dev/lib/python3.11/site-packages/mbuild/recipes/__init__.py:13: DeprecationWarning: SelectableGroups dict interface is deprecated. Use select.\n",
      "  entry_points = metadata.entry_points()[\"mbuild.plugins\"]\n"
     ]
    }
   ],
   "source": [
    "from flowermd.base.system import Pack\n",
    "from flowermd.library.polymers import PolyEthylene\n",
    "from flowermd.library.forcefields import OPLS_AA"
   ]
  },
  {
   "cell_type": "code",
   "execution_count": 3,
   "id": "620ce655-2c44-43a8-9a7a-2cedc148ff99",
   "metadata": {
    "scrolled": true
   },
   "outputs": [
    {
     "ename": "KeyboardInterrupt",
     "evalue": "",
     "output_type": "error",
     "traceback": [
      "\u001b[0;31m---------------------------------------------------------------------------\u001b[0m",
      "\u001b[0;31mKeyboardInterrupt\u001b[0m                         Traceback (most recent call last)",
      "Cell \u001b[0;32mIn[3], line 3\u001b[0m\n\u001b[1;32m      1\u001b[0m polyethylene \u001b[38;5;241m=\u001b[39m PolyEthylene(num_mols\u001b[38;5;241m=\u001b[39m\u001b[38;5;241m70\u001b[39m, lengths\u001b[38;5;241m=\u001b[39m\u001b[38;5;241m25\u001b[39m)\n\u001b[1;32m      2\u001b[0m droplet_system \u001b[38;5;241m=\u001b[39m Pack(molecules\u001b[38;5;241m=\u001b[39mpolyethylene, density\u001b[38;5;241m=\u001b[39m\u001b[38;5;241m1.0\u001b[39m \u001b[38;5;241m*\u001b[39m unyt\u001b[38;5;241m.\u001b[39mg\u001b[38;5;241m/\u001b[39munyt\u001b[38;5;241m.\u001b[39mcm\u001b[38;5;241m*\u001b[39m\u001b[38;5;241m*\u001b[39m\u001b[38;5;241m3\u001b[39m)\n\u001b[0;32m----> 3\u001b[0m \u001b[43mdroplet_system\u001b[49m\u001b[38;5;241;43m.\u001b[39;49m\u001b[43mapply_forcefield\u001b[49m\u001b[43m(\u001b[49m\n\u001b[1;32m      4\u001b[0m \u001b[43m    \u001b[49m\u001b[43mforce_field\u001b[49m\u001b[38;5;241;43m=\u001b[39;49m\u001b[43mOPLS_AA\u001b[49m\u001b[43m(\u001b[49m\u001b[43m)\u001b[49m\u001b[43m,\u001b[49m\u001b[43m \u001b[49m\n\u001b[1;32m      5\u001b[0m \u001b[43m    \u001b[49m\u001b[43mremove_charges\u001b[49m\u001b[38;5;241;43m=\u001b[39;49m\u001b[38;5;28;43;01mTrue\u001b[39;49;00m\u001b[43m,\u001b[49m\u001b[43m         \u001b[49m\n\u001b[1;32m      6\u001b[0m \u001b[43m    \u001b[49m\u001b[43mremove_hydrogens\u001b[49m\u001b[38;5;241;43m=\u001b[39;49m\u001b[38;5;28;43;01mTrue\u001b[39;49;00m\u001b[43m,\u001b[49m\u001b[43m \u001b[49m\n\u001b[1;32m      7\u001b[0m \u001b[43m    \u001b[49m\u001b[43mauto_scale\u001b[49m\u001b[38;5;241;43m=\u001b[39;49m\u001b[38;5;28;43;01mTrue\u001b[39;49;00m\u001b[43m,\u001b[49m\n\u001b[1;32m      8\u001b[0m \u001b[43m    \u001b[49m\u001b[43mr_cut\u001b[49m\u001b[38;5;241;43m=\u001b[39;49m\u001b[38;5;241;43m2.5\u001b[39;49m\n\u001b[1;32m      9\u001b[0m \u001b[43m)\u001b[49m\n",
      "File \u001b[0;32m~/cme/forks/flowerMD/flowermd/base/system.py:548\u001b[0m, in \u001b[0;36mSystem.apply_forcefield\u001b[0;34m(self, r_cut, force_field, auto_scale, scale_charges, remove_charges, remove_hydrogens, pppm_resolution, pppm_order, nlist_buffer)\u001b[0m\n\u001b[1;32m    544\u001b[0m \u001b[38;5;28;01mif\u001b[39;00m \u001b[38;5;28mself\u001b[39m\u001b[38;5;241m.\u001b[39m_gmso_forcefields_dict:\n\u001b[1;32m    545\u001b[0m     \u001b[38;5;66;03m# assign names to all the gmso sites based on mol_type to\u001b[39;00m\n\u001b[1;32m    546\u001b[0m     \u001b[38;5;66;03m# match the keys in self._gmso_forcefields_dict before applying ff\u001b[39;00m\n\u001b[1;32m    547\u001b[0m     \u001b[38;5;28mself\u001b[39m\u001b[38;5;241m.\u001b[39m_assign_site_mol_type_idx()\n\u001b[0;32m--> 548\u001b[0m \u001b[38;5;28mself\u001b[39m\u001b[38;5;241m.\u001b[39mgmso_system \u001b[38;5;241m=\u001b[39m \u001b[43mapply\u001b[49m\u001b[43m(\u001b[49m\n\u001b[1;32m    549\u001b[0m \u001b[43m    \u001b[49m\u001b[38;5;28;43mself\u001b[39;49m\u001b[38;5;241;43m.\u001b[39;49m\u001b[43mgmso_system\u001b[49m\u001b[43m,\u001b[49m\n\u001b[1;32m    550\u001b[0m \u001b[43m    \u001b[49m\u001b[38;5;28;43mself\u001b[39;49m\u001b[38;5;241;43m.\u001b[39;49m\u001b[43m_gmso_forcefields_dict\u001b[49m\u001b[43m,\u001b[49m\n\u001b[1;32m    551\u001b[0m \u001b[43m    \u001b[49m\u001b[43mmatch_ff_by\u001b[49m\u001b[38;5;241;43m=\u001b[39;49m\u001b[38;5;124;43m\"\u001b[39;49m\u001b[38;5;124;43mgroup\u001b[39;49m\u001b[38;5;124;43m\"\u001b[39;49m\u001b[43m,\u001b[49m\n\u001b[1;32m    552\u001b[0m \u001b[43m    \u001b[49m\u001b[43midentify_connections\u001b[49m\u001b[38;5;241;43m=\u001b[39;49m\u001b[38;5;28;43;01mTrue\u001b[39;49;00m\u001b[43m,\u001b[49m\n\u001b[1;32m    553\u001b[0m \u001b[43m    \u001b[49m\u001b[43mspeedup_by_moltag\u001b[49m\u001b[38;5;241;43m=\u001b[39;49m\u001b[38;5;28;43;01mTrue\u001b[39;49;00m\u001b[43m,\u001b[49m\n\u001b[1;32m    554\u001b[0m \u001b[43m    \u001b[49m\u001b[43mspeedup_by_molgraph\u001b[49m\u001b[38;5;241;43m=\u001b[39;49m\u001b[38;5;28;43;01mFalse\u001b[39;49;00m\u001b[43m,\u001b[49m\n\u001b[1;32m    555\u001b[0m \u001b[43m\u001b[49m\u001b[43m)\u001b[49m\n\u001b[1;32m    557\u001b[0m \u001b[38;5;28;01mif\u001b[39;00m remove_charges:\n\u001b[1;32m    558\u001b[0m     \u001b[38;5;28;01mfor\u001b[39;00m site \u001b[38;5;129;01min\u001b[39;00m \u001b[38;5;28mself\u001b[39m\u001b[38;5;241m.\u001b[39mgmso_system\u001b[38;5;241m.\u001b[39msites:\n",
      "File \u001b[0;32m~/miniconda3/envs/flowermd-dev/lib/python3.11/site-packages/gmso/parameterization/parameterize.py:92\u001b[0m, in \u001b[0;36mapply\u001b[0;34m(top, forcefields, match_ff_by, identify_connections, speedup_by_molgraph, speedup_by_moltag, ignore_params, remove_untyped, fast_copy)\u001b[0m\n\u001b[1;32m     77\u001b[0m config \u001b[38;5;241m=\u001b[39m TopologyParameterizationConfig\u001b[38;5;241m.\u001b[39mmodel_validate(\n\u001b[1;32m     78\u001b[0m     \u001b[38;5;28mdict\u001b[39m(\n\u001b[1;32m     79\u001b[0m         match_ff_by\u001b[38;5;241m=\u001b[39mmatch_ff_by,\n\u001b[0;32m   (...)\u001b[0m\n\u001b[1;32m     86\u001b[0m     )\n\u001b[1;32m     87\u001b[0m )\n\u001b[1;32m     88\u001b[0m parameterizer \u001b[38;5;241m=\u001b[39m TopologyParameterizer(\n\u001b[1;32m     89\u001b[0m     topology\u001b[38;5;241m=\u001b[39mtop, forcefields\u001b[38;5;241m=\u001b[39mforcefields, config\u001b[38;5;241m=\u001b[39mconfig\n\u001b[1;32m     90\u001b[0m )\n\u001b[0;32m---> 92\u001b[0m \u001b[43mparameterizer\u001b[49m\u001b[38;5;241;43m.\u001b[39;49m\u001b[43mrun_parameterization\u001b[49m\u001b[43m(\u001b[49m\u001b[43m)\u001b[49m\n\u001b[1;32m     94\u001b[0m \u001b[38;5;28;01mreturn\u001b[39;00m parameterizer\u001b[38;5;241m.\u001b[39mtopology\n",
      "File \u001b[0;32m~/miniconda3/envs/flowermd-dev/lib/python3.11/site-packages/gmso/parameterization/topology_parameterizer.py:311\u001b[0m, in \u001b[0;36mTopologyParameterizer.run_parameterization\u001b[0;34m(self)\u001b[0m\n\u001b[1;32m    308\u001b[0m \u001b[38;5;28;01mif\u001b[39;00m \u001b[38;5;28mself\u001b[39m\u001b[38;5;241m.\u001b[39mconfig\u001b[38;5;241m.\u001b[39midentify_connections:\n\u001b[1;32m    309\u001b[0m \u001b[38;5;250m    \u001b[39m\u001b[38;5;124;03m\"\"\"ToDo: This mutates the topology and is agnostic to downstream\u001b[39;00m\n\u001b[1;32m    310\u001b[0m \u001b[38;5;124;03m    errors. So, here we should use index only option\"\"\"\u001b[39;00m\n\u001b[0;32m--> 311\u001b[0m     \u001b[38;5;28;43mself\u001b[39;49m\u001b[38;5;241;43m.\u001b[39;49m\u001b[43mtopology\u001b[49m\u001b[38;5;241;43m.\u001b[39;49m\u001b[43midentify_connections\u001b[49m\u001b[43m(\u001b[49m\u001b[43m)\u001b[49m\n\u001b[1;32m    313\u001b[0m \u001b[38;5;28;01mif\u001b[39;00m \u001b[38;5;28misinstance\u001b[39m(\u001b[38;5;28mself\u001b[39m\u001b[38;5;241m.\u001b[39mforcefields, Dict):\n\u001b[1;32m    314\u001b[0m     labels \u001b[38;5;241m=\u001b[39m \u001b[38;5;28mself\u001b[39m\u001b[38;5;241m.\u001b[39mtopology\u001b[38;5;241m.\u001b[39munique_site_labels(\n\u001b[1;32m    315\u001b[0m         \u001b[38;5;28mself\u001b[39m\u001b[38;5;241m.\u001b[39mconfig\u001b[38;5;241m.\u001b[39mmatch_ff_by, name_only\u001b[38;5;241m=\u001b[39m\u001b[38;5;28;01mTrue\u001b[39;00m\n\u001b[1;32m    316\u001b[0m     )\n",
      "File \u001b[0;32m~/miniconda3/envs/flowermd-dev/lib/python3.11/site-packages/gmso/core/topology.py:897\u001b[0m, in \u001b[0;36mTopology.identify_connections\u001b[0;34m(self)\u001b[0m\n\u001b[1;32m    895\u001b[0m \u001b[38;5;28;01mdef\u001b[39;00m \u001b[38;5;21midentify_connections\u001b[39m(\u001b[38;5;28mself\u001b[39m):\n\u001b[1;32m    896\u001b[0m \u001b[38;5;250m    \u001b[39m\u001b[38;5;124;03m\"\"\"Identify all connections in the topology.\"\"\"\u001b[39;00m\n\u001b[0;32m--> 897\u001b[0m     \u001b[43m_identify_connections\u001b[49m\u001b[43m(\u001b[49m\u001b[38;5;28;43mself\u001b[39;49m\u001b[43m)\u001b[49m\n",
      "File \u001b[0;32m~/miniconda3/envs/flowermd-dev/lib/python3.11/site-packages/gmso/utils/connectivity.py:59\u001b[0m, in \u001b[0;36midentify_connections\u001b[0;34m(top, index_only)\u001b[0m\n\u001b[1;32m     55\u001b[0m angle_matches \u001b[38;5;241m=\u001b[39m _detect_connections(compound_line_graph, top, type_\u001b[38;5;241m=\u001b[39m\u001b[38;5;124m\"\u001b[39m\u001b[38;5;124mangle\u001b[39m\u001b[38;5;124m\"\u001b[39m)\n\u001b[1;32m     56\u001b[0m dihedral_matches \u001b[38;5;241m=\u001b[39m _detect_connections(\n\u001b[1;32m     57\u001b[0m     compound_line_graph, top, type_\u001b[38;5;241m=\u001b[39m\u001b[38;5;124m\"\u001b[39m\u001b[38;5;124mdihedral\u001b[39m\u001b[38;5;124m\"\u001b[39m\n\u001b[1;32m     58\u001b[0m )\n\u001b[0;32m---> 59\u001b[0m improper_matches \u001b[38;5;241m=\u001b[39m \u001b[43m_detect_connections\u001b[49m\u001b[43m(\u001b[49m\n\u001b[1;32m     60\u001b[0m \u001b[43m    \u001b[49m\u001b[43mcompound_line_graph\u001b[49m\u001b[43m,\u001b[49m\u001b[43m \u001b[49m\u001b[43mtop\u001b[49m\u001b[43m,\u001b[49m\u001b[43m \u001b[49m\u001b[43mtype_\u001b[49m\u001b[38;5;241;43m=\u001b[39;49m\u001b[38;5;124;43m\"\u001b[39;49m\u001b[38;5;124;43mimproper\u001b[39;49m\u001b[38;5;124;43m\"\u001b[39;49m\n\u001b[1;32m     61\u001b[0m \u001b[43m\u001b[49m\u001b[43m)\u001b[49m\n\u001b[1;32m     63\u001b[0m \u001b[38;5;28;01mif\u001b[39;00m \u001b[38;5;129;01mnot\u001b[39;00m index_only:\n\u001b[1;32m     64\u001b[0m     \u001b[38;5;28;01mfor\u001b[39;00m conn_matches, conn_type \u001b[38;5;129;01min\u001b[39;00m \u001b[38;5;28mzip\u001b[39m(\n\u001b[1;32m     65\u001b[0m         (angle_matches, dihedral_matches, improper_matches),\n\u001b[1;32m     66\u001b[0m         (\u001b[38;5;124m\"\u001b[39m\u001b[38;5;124mangle\u001b[39m\u001b[38;5;124m\"\u001b[39m, \u001b[38;5;124m\"\u001b[39m\u001b[38;5;124mdihedral\u001b[39m\u001b[38;5;124m\"\u001b[39m, \u001b[38;5;124m\"\u001b[39m\u001b[38;5;124mimproper\u001b[39m\u001b[38;5;124m\"\u001b[39m),\n\u001b[1;32m     67\u001b[0m     ):\n",
      "File \u001b[0;32m~/miniconda3/envs/flowermd-dev/lib/python3.11/site-packages/gmso/utils/connectivity.py:108\u001b[0m, in \u001b[0;36m_detect_connections\u001b[0;34m(compound_line_graph, top, type_)\u001b[0m\n\u001b[1;32m    106\u001b[0m conn_matches \u001b[38;5;241m=\u001b[39m IndexedSet()\n\u001b[1;32m    107\u001b[0m \u001b[38;5;28;01mfor\u001b[39;00m m \u001b[38;5;129;01min\u001b[39;00m matcher\u001b[38;5;241m.\u001b[39msubgraph_isomorphisms_iter():\n\u001b[0;32m--> 108\u001b[0m     new_connection \u001b[38;5;241m=\u001b[39m \u001b[43mformatter_fns\u001b[49m\u001b[43m[\u001b[49m\u001b[43mtype_\u001b[49m\u001b[43m]\u001b[49m\u001b[43m(\u001b[49m\u001b[43mm\u001b[49m\u001b[43m,\u001b[49m\u001b[43m \u001b[49m\u001b[43mtop\u001b[49m\u001b[43m)\u001b[49m\n\u001b[1;32m    109\u001b[0m     conn_matches\u001b[38;5;241m.\u001b[39madd(new_connection)\n\u001b[1;32m    111\u001b[0m \u001b[38;5;28;01mif\u001b[39;00m conn_matches:\n",
      "File \u001b[0;32m~/miniconda3/envs/flowermd-dev/lib/python3.11/site-packages/gmso/utils/connectivity.py:268\u001b[0m, in \u001b[0;36m_format_subgraph_improper\u001b[0;34m(m, top)\u001b[0m\n\u001b[1;32m    260\u001b[0m     central \u001b[38;5;241m=\u001b[39m sort_by_n_connections[\u001b[38;5;241m3\u001b[39m]\n\u001b[1;32m    261\u001b[0m     branch1, branch2, branch3 \u001b[38;5;241m=\u001b[39m \u001b[38;5;28msorted\u001b[39m(\n\u001b[1;32m    262\u001b[0m         sort_by_n_connections[:\u001b[38;5;241m3\u001b[39m],\n\u001b[1;32m    263\u001b[0m         key\u001b[38;5;241m=\u001b[39m\u001b[38;5;28;01mlambda\u001b[39;00m x: top\u001b[38;5;241m.\u001b[39mget_index(x),\n\u001b[1;32m    264\u001b[0m     )\n\u001b[1;32m    265\u001b[0m     \u001b[38;5;28;01mreturn\u001b[39;00m (\n\u001b[1;32m    266\u001b[0m         top\u001b[38;5;241m.\u001b[39mget_index(central),\n\u001b[1;32m    267\u001b[0m         top\u001b[38;5;241m.\u001b[39mget_index(branch1),\n\u001b[0;32m--> 268\u001b[0m         \u001b[43mtop\u001b[49m\u001b[38;5;241;43m.\u001b[39;49m\u001b[43mget_index\u001b[49m\u001b[43m(\u001b[49m\u001b[43mbranch2\u001b[49m\u001b[43m)\u001b[49m,\n\u001b[1;32m    269\u001b[0m         top\u001b[38;5;241m.\u001b[39mget_index(branch3),\n\u001b[1;32m    270\u001b[0m     )\n\u001b[1;32m    271\u001b[0m \u001b[38;5;28;01mreturn\u001b[39;00m \u001b[38;5;28;01mNone\u001b[39;00m\n",
      "File \u001b[0;32m~/miniconda3/envs/flowermd-dev/lib/python3.11/site-packages/gmso/core/topology.py:1228\u001b[0m, in \u001b[0;36mTopology.get_index\u001b[0;34m(self, member)\u001b[0m\n\u001b[1;32m   1223\u001b[0m \u001b[38;5;28;01mif\u001b[39;00m member_type \u001b[38;5;129;01mnot\u001b[39;00m \u001b[38;5;129;01min\u001b[39;00m refs\u001b[38;5;241m.\u001b[39mkeys():\n\u001b[1;32m   1224\u001b[0m     \u001b[38;5;28;01mraise\u001b[39;00m \u001b[38;5;167;01mTypeError\u001b[39;00m(\n\u001b[1;32m   1225\u001b[0m         \u001b[38;5;124mf\u001b[39m\u001b[38;5;124m\"\u001b[39m\u001b[38;5;124mCannot index member of type \u001b[39m\u001b[38;5;132;01m{\u001b[39;00mmember_type\u001b[38;5;241m.\u001b[39m\u001b[38;5;18m__name__\u001b[39m\u001b[38;5;132;01m}\u001b[39;00m\u001b[38;5;124m\"\u001b[39m\n\u001b[1;32m   1226\u001b[0m     )\n\u001b[0;32m-> 1228\u001b[0m index \u001b[38;5;241m=\u001b[39m \u001b[43mrefs\u001b[49m\u001b[43m[\u001b[49m\u001b[43mmember_type\u001b[49m\u001b[43m]\u001b[49m\u001b[38;5;241;43m.\u001b[39;49m\u001b[43mindex\u001b[49m\u001b[43m(\u001b[49m\u001b[43mmember\u001b[49m\u001b[43m)\u001b[49m\n\u001b[1;32m   1230\u001b[0m \u001b[38;5;28;01mreturn\u001b[39;00m index\n",
      "File \u001b[0;32m~/miniconda3/envs/flowermd-dev/lib/python3.11/site-packages/boltons/setutils.py:466\u001b[0m, in \u001b[0;36mIndexedSet.index\u001b[0;34m(self, val)\u001b[0m\n\u001b[1;32m    463\u001b[0m         \u001b[38;5;28mself\u001b[39m\u001b[38;5;241m.\u001b[39mitem_index_map[item] \u001b[38;5;241m=\u001b[39m i\n\u001b[1;32m    464\u001b[0m     \u001b[38;5;28;01mdel\u001b[39;00m \u001b[38;5;28mself\u001b[39m\u001b[38;5;241m.\u001b[39mdead_indices[:]\n\u001b[0;32m--> 466\u001b[0m \u001b[38;5;28;01mdef\u001b[39;00m \u001b[38;5;21mindex\u001b[39m(\u001b[38;5;28mself\u001b[39m, val):\n\u001b[1;32m    467\u001b[0m     \u001b[38;5;124m\"\u001b[39m\u001b[38;5;124mindex(val) -> get the index of a value, raises if not present\u001b[39m\u001b[38;5;124m\"\u001b[39m\n\u001b[1;32m    468\u001b[0m     \u001b[38;5;28;01mtry\u001b[39;00m:\n",
      "\u001b[0;31mKeyboardInterrupt\u001b[0m: "
     ]
    }
   ],
   "source": [
    "polyethylene = PolyEthylene(num_mols=70, lengths=25)\n",
    "droplet_system = Pack(molecules=polyethylene, density=1.0 * unyt.g/unyt.cm**3)\n",
    "droplet_system.apply_forcefield(\n",
    "    force_field=OPLS_AA(), \n",
    "    remove_charges=True,         \n",
    "    remove_hydrogens=True, \n",
    "    auto_scale=True,\n",
    "    r_cut=2.5\n",
    ")"
   ]
  },
  {
   "cell_type": "code",
   "execution_count": null,
   "id": "18fa1f94-d803-4c52-b9ca-cb081fb28953",
   "metadata": {},
   "outputs": [],
   "source": [
    "from flowermd.modules.surface_wetting import DropletSimulation\n",
    "\n",
    "droplet_sim = DropletSimulation.from_system(\n",
    "    droplet_system,\n",
    "    gsd_file_name=\"droplet_trajectory.gsd\",\n",
    "    log_file_name=\"droplet_sim_data.txt\"\n",
    ")"
   ]
  },
  {
   "cell_type": "markdown",
   "id": "09bfd711-ba7b-4119-a3d8-d99db21f4b1f",
   "metadata": {},
   "source": [
    "<div class=\"alert alert-block alert-warning\"><b>Warning:</b> Due to the large system size, the following cell may take approximately 30 minutes to an hour to run.</div>"
   ]
  },
  {
   "cell_type": "markdown",
   "id": "e0095630-28f9-4dad-bebf-8257f6fa46ee",
   "metadata": {},
   "source": [
    "**Run the droplet simulation:**\n",
    "\n",
    "The `run_droplet` method runs the droplet simulation. The method takes the following steps:\n",
    "1. Shrink the box to a high density at a high temperature. This allows the polymer chains to pack tightly.\n",
    "2. Expand the box to a low density at a low temperature. This allows the polymer chains to relax and form a droplet.\n",
    "3. Hold the box at a low density at a low temperature. This allows the droplet to equilibrate."
   ]
  },
  {
   "cell_type": "code",
   "execution_count": null,
   "id": "d7b0cc44-de5e-42b0-b594-30f9d94e11ce",
   "metadata": {},
   "outputs": [],
   "source": [
    "# Uncomment the code-block below to try creating a polymer droplet.\n",
    "\n",
    "\"\"\"\n",
    "droplet_sim.run_droplet(\n",
    "    tau_kt=droplet_sim.dt * 100,\n",
    "    shrink_kT=5.0,\n",
    "    shrink_steps=1e6,\n",
    "    shrink_period=1000,\n",
    "    shrink_density=1.4,\n",
    "    expand_kT=0.5,\n",
    "    expand_steps=2e6,\n",
    "    expand_period=1000,\n",
    "    hold_kT=0.5,\n",
    "    hold_steps=1e5,\n",
    "    final_density=0.05\n",
    ")\n",
    "droplet_sim.flush_writers()\n",
    "\"\"\""
   ]
  },
  {
   "cell_type": "markdown",
   "id": "4bd62f83",
   "metadata": {
    "collapsed": false,
    "jupyter": {
     "outputs_hidden": false
    }
   },
   "source": [
    "<div class=\"alert alert-block alert-info\"> <b>Note:</b> In order to reach the perfect droplet shape, you might need to try different parameters (e.g. system size, density, and temperatures) and check the trajectory to see if the droplet is forming.\n",
    "</div>\n"
   ]
  },
  {
   "cell_type": "markdown",
   "id": "e1400370-a30a-4d33-a625-bf000a499846",
   "metadata": {},
   "source": [
    "For demonstration purposes and to save time, we will use the pre-run droplet simulation snapshot for the above system, saved in the `data` directory."
   ]
  },
  {
   "cell_type": "code",
   "execution_count": null,
   "id": "c0b0f2c7",
   "metadata": {
    "collapsed": false,
    "jupyter": {
     "outputs_hidden": false
    }
   },
   "outputs": [],
   "source": [
    "import gsd.hoomd\n",
    "import pickle\n",
    "\n",
    "droplet_snapshot = gsd.hoomd.open('data/polyethylene_droplet.gsd')[0]"
   ]
  },
  {
   "cell_type": "markdown",
   "id": "444a22c1",
   "metadata": {
    "collapsed": false,
    "jupyter": {
     "outputs_hidden": false
    }
   },
   "source": [
    "Here is a visualization of the droplet:"
   ]
  },
  {
   "cell_type": "code",
   "execution_count": null,
   "id": "9893f59d",
   "metadata": {
    "collapsed": false,
    "jupyter": {
     "outputs_hidden": false
    }
   },
   "outputs": [],
   "source": [
    "sim_viewer = FresnelGSD(gsd_file=\"data/polyethylene_droplet.gsd\", view_axis=(0, 1, 0), frame=-1)\n",
    "sim_viewer.view()"
   ]
  },
  {
   "cell_type": "markdown",
   "id": "7e75e340-2c45-401e-bd0a-70f907f90975",
   "metadata": {},
   "source": [
    "Since we will need the forcefield and reference values of the droplet system later, we will create a new droplet system with a smaller number of molecules and save the forcefield and reference values."
   ]
  },
  {
   "cell_type": "code",
   "execution_count": null,
   "id": "66b810dd-1bde-43e6-8aad-5ef3f72049c8",
   "metadata": {},
   "outputs": [],
   "source": [
    "polyethylene_small = PolyEthylene(num_mols=10, lengths=5)\n",
    "droplet_system_small = Pack(molecules=polyethylene_small, density=1.0)\n",
    "droplet_system_small.apply_forcefield(\n",
    "    force_field=OPLS_AA(), \n",
    "    remove_charges=True,         \n",
    "    remove_hydrogens=True, \n",
    "    auto_scale=True,\n",
    "    r_cut=2.5\n",
    ")"
   ]
  },
  {
   "cell_type": "code",
   "execution_count": null,
   "id": "bb089f98-a502-44e3-a656-be25a844816e",
   "metadata": {},
   "outputs": [],
   "source": [
    "droplet_ff = droplet_system_small.hoomd_forcefield\n",
    "droplet_ref_values = droplet_system_small.reference_values"
   ]
  },
  {
   "cell_type": "markdown",
   "id": "29c97387",
   "metadata": {
    "collapsed": false,
    "jupyter": {
     "outputs_hidden": false
    }
   },
   "source": [
    "## Step 2: Create a graphene surface\n",
    "\n",
    "We will use the `Graphene` class from the `flowermd.library.surfaces` to create a graphene surface. The size of the graphene surface is determined by the `x_repeat` and `y_repeat` parameters, which determine the number of unit cells in the x and y directions, respectively.  The `n_layers` parameter determines the number of graphene layers.\n",
    "This class is a subclass of `System` base class, so we can use the `apply_forcefield` method to apply the force field to the graphene surface."
   ]
  },
  {
   "cell_type": "markdown",
   "id": "ee7d0ebc",
   "metadata": {
    "collapsed": false,
    "jupyter": {
     "outputs_hidden": false
    }
   },
   "source": [
    "**Note**: We are using the droplet system's reference values to scale the graphene surface. This ensures that the graphene surface and the droplet system have the same units. Make sure to set the `auto_scale` parameter to `False` when applying the force field to the graphene surface."
   ]
  },
  {
   "cell_type": "code",
   "execution_count": null,
   "id": "1a685c3d-ba9f-4db9-9aee-02e61526e2f0",
   "metadata": {
    "scrolled": true
   },
   "outputs": [],
   "source": [
    "from flowermd.library.surfaces import Graphene\n",
    "\n",
    "graphene = Graphene(\n",
    "    x_repeat=30,\n",
    "    y_repeat=30,\n",
    "    n_layers=2,\n",
    "    base_units=droplet_ref_values\n",
    ")\n",
    "graphene.apply_forcefield(\n",
    "    force_field=OPLS_AA(),\n",
    "    remove_charges=True,\n",
    "    auto_scale=False,\n",
    "    r_cut=2.5\n",
    ")"
   ]
  },
  {
   "cell_type": "markdown",
   "id": "f96db611",
   "metadata": {
    "collapsed": false,
    "jupyter": {
     "outputs_hidden": false
    }
   },
   "source": [
    "## Step 3: Combine the droplet and surface systems\n",
    "\n",
    "The `InterfaceBuilder` class from the `flowermd.modules.surface_wetting` module combines the droplet and surface snapshots by placing the droplet particles on top of the surface. The particles are placed in a box with a height equal to the `box_height` parameter. The `gap` parameter determines the distance between the droplet and the surface.\n",
    "\n",
    "This class also combines the force fields of the droplet and surface systems, while also accounting for new LJ interactions between the droplet and surface particles.\n"
   ]
  },
  {
   "cell_type": "code",
   "execution_count": null,
   "id": "a37a21d6-4185-4ecf-b3c3-112a4436cdae",
   "metadata": {},
   "outputs": [],
   "source": [
    "from flowermd.modules.surface_wetting import InterfaceBuilder\n",
    "import unyt as u\n",
    "\n",
    "interface = InterfaceBuilder(\n",
    "    surface_snapshot=graphene.hoomd_snapshot,\n",
    "    surface_ff=graphene.hoomd_forcefield,\n",
    "    drop_snapshot=droplet_snapshot,\n",
    "    drop_ff=droplet_ff,\n",
    "    drop_ref_values=droplet_ref_values,\n",
    "    box_height=12 * u.nm,\n",
    "    gap=0.4 * u.nm\n",
    ")"
   ]
  },
  {
   "cell_type": "markdown",
   "id": "7a854a44",
   "metadata": {
    "collapsed": false,
    "jupyter": {
     "outputs_hidden": false
    }
   },
   "source": [
    "The new snapshot and force field can be accessed using the `hoomd_snapshot` and `hoomd_forcefield` attributes, respectively."
   ]
  },
  {
   "cell_type": "code",
   "execution_count": null,
   "id": "94cda23f-9ad6-41c4-8251-311b209f9c41",
   "metadata": {},
   "outputs": [],
   "source": [
    "wetting_snapshot = interface.hoomd_snapshot\n",
    "wetting_forcefield = interface.hoomd_forces"
   ]
  },
  {
   "cell_type": "code",
   "execution_count": null,
   "id": "1ca51b8c-574a-48ae-a8ae-97995320bdf3",
   "metadata": {},
   "outputs": [],
   "source": [
    "# save the `wetting_snapshot` to a gsd file\n",
    "with gsd.hoomd.open(\"surface_wetting_init.gsd\", \"w\") as traj:\n",
    "    traj.append(wetting_snapshot)"
   ]
  },
  {
   "cell_type": "markdown",
   "id": "1a776c54",
   "metadata": {
    "collapsed": false,
    "jupyter": {
     "outputs_hidden": false
    }
   },
   "source": [
    "Let's visualize the new snapshot containing the droplet and surface particles."
   ]
  },
  {
   "cell_type": "code",
   "execution_count": null,
   "id": "e1500802",
   "metadata": {
    "collapsed": false,
    "jupyter": {
     "outputs_hidden": false
    }
   },
   "outputs": [],
   "source": [
    "sim_viewer = FresnelGSD(gsd_file=\"surface_wetting_init.gsd\", view_axis=(0, 1.5, 0), frame=-1)\n",
    "sim_viewer.view()"
   ]
  },
  {
   "cell_type": "markdown",
   "id": "d938d6b6",
   "metadata": {
    "collapsed": false,
    "jupyter": {
     "outputs_hidden": false
    }
   },
   "source": [
    "## Step 4: Run wetting simulation\n",
    "\n",
    "The `WettingSimulation` class from the `flowermd.modules.surface_wetting` module runs the wetting simulation. The `WettingSimulation` class is a subclass of the `Simulation` base class. The `WettingSimulation` class takes the following parameters:\n",
    "- `initial_state`: The snapshot containing the droplet and surface particles.\n",
    "- `forcefield`: The force field containing the droplet and surface force fields.\n",
    "- `fix_surface`: A boolean value that determines whether the surface particles are fixed during the simulation. If `True`, the surface particles are excluded from the integrator, meaning that they will not move during the simulation."
   ]
  },
  {
   "cell_type": "code",
   "execution_count": null,
   "id": "f383a19b",
   "metadata": {
    "collapsed": false,
    "jupyter": {
     "outputs_hidden": false
    }
   },
   "outputs": [],
   "source": [
    "from flowermd.modules.surface_wetting import WettingSimulation\n",
    "\n",
    "wetting_sim = WettingSimulation(\n",
    "    initial_state=wetting_snapshot,\n",
    "    forcefield=wetting_forcefield,\n",
    "    fix_surface=True,\n",
    "    gsd_file_name=\"wetting_trajectory.gsd\",\n",
    "    log_file_name=\"wetting_sim_data.txt\"\n",
    ")"
   ]
  },
  {
   "cell_type": "markdown",
   "id": "1bad3c08",
   "metadata": {
    "collapsed": false,
    "jupyter": {
     "outputs_hidden": false
    }
   },
   "source": [
    "Now we can start the wetting simulation by using the `run_NVT` method. The droplet slowly spreads on the surface, and eventually wets the surface."
   ]
  },
  {
   "cell_type": "markdown",
   "id": "8c74cac0-8f28-4c05-baee-00893b1eb886",
   "metadata": {},
   "source": [
    "<div class=\"alert alert-block alert-warning\"><b>Warning:</b> Due to the large system size, the following cells may take approximately 30 minutes to an hour to run.</div>"
   ]
  },
  {
   "cell_type": "code",
   "execution_count": null,
   "id": "6509db1e",
   "metadata": {
    "collapsed": false,
    "jupyter": {
     "outputs_hidden": false
    }
   },
   "outputs": [],
   "source": [
    "# Uncomment to run surface wetting simulation\n",
    "\n",
    "#wetting_sim.run_NVT(kT=3.0, n_steps=3e5, tau_kt=wetting_sim.dt*100)\n",
    "#wetting_sim.flush_writers()"
   ]
  },
  {
   "cell_type": "code",
   "execution_count": null,
   "id": "1ce60d1f",
   "metadata": {
    "collapsed": false,
    "jupyter": {
     "outputs_hidden": false
    }
   },
   "outputs": [],
   "source": [
    "if os.path.exists(\"wetting_trajectory.gsd\"):\n",
    "    sim_viewer = FresnelGSD(gsd_file=\"wetting_trajectory.gsd\", view_axis=(0, 1.5, 0), frame=-1)\n",
    "    sim_viewer.view()\n",
    "else:\n",
    "    print(\"The GSD file from wetting_sim is not available!\")"
   ]
  },
  {
   "cell_type": "code",
   "execution_count": null,
   "id": "d96aaab1-9b27-4493-a73d-dd648205b1dd",
   "metadata": {},
   "outputs": [],
   "source": [
    "# Uncomment to run the surface wetting simulation longer:\n",
    "\n",
    "#wetting_sim.run_NVT(kT=3.0, n_steps=2e5, tau_kt=wetting_sim.dt*100)\n",
    "#wetting_sim.flush_writers()"
   ]
  },
  {
   "cell_type": "code",
   "execution_count": null,
   "id": "1ec84021-fccb-4372-abdc-fa5158014564",
   "metadata": {},
   "outputs": [],
   "source": [
    "if os.path.exists(\"wetting_trajectory.gsd\"):\n",
    "    sim_viewer = FresnelGSD(gsd_file=\"wetting_trajectory.gsd\", view_axis=(0, 1.5, 0), frame=-1)\n",
    "    sim_viewer.view()\n",
    "else:\n",
    "    print(\"The GSD file from wetting_sim is not available!\")"
   ]
  }
 ],
 "metadata": {
  "kernelspec": {
   "display_name": "Python 3 (ipykernel)",
   "language": "python",
   "name": "python3"
  },
  "language_info": {
   "codemirror_mode": {
    "name": "ipython",
    "version": 3
   },
   "file_extension": ".py",
   "mimetype": "text/x-python",
   "name": "python",
   "nbconvert_exporter": "python",
   "pygments_lexer": "ipython3",
   "version": "3.11.0"
  }
 },
 "nbformat": 4,
 "nbformat_minor": 5
}
