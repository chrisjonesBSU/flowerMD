{
 "cells": [
  {
   "cell_type": "code",
   "execution_count": 5,
   "id": "83cb2ce2-b478-4738-b34a-9156a4aaacfb",
   "metadata": {},
   "outputs": [],
   "source": [
    "import warnings\n",
    "warnings.filterwarnings(\"ignore\")\n",
    "\n",
    "import unyt as u\n",
    "\n",
    "from flowermd.base import Pack, Simulation\n",
    "from flowermd.library.polymers import PPS, LJChain, EllipsoidChain\n",
    "from flowermd.library.forcefields import BeadSpring, KremerGrestBeadSpring, EllipsoidForcefield, OPLS_AA_PPS"
   ]
  },
  {
   "cell_type": "code",
   "execution_count": 2,
   "id": "edbaec94-86a8-4355-a0b8-02596d98d96a",
   "metadata": {},
   "outputs": [],
   "source": [
    "pps_chains = PPS(num_mols=25, lengths=20)\n",
    "bead_spring_chains = LJChain(num_mols=25, lengths=20)\n",
    "ellipsoid_chains = EllipsoidChain(num_mols=25, lengths=20, lpar=1, bead_mass=1.0, bond_length=0.1)"
   ]
  },
  {
   "cell_type": "code",
   "execution_count": 3,
   "id": "d9b70ac5-696c-4c9d-9ad6-bac661903be4",
   "metadata": {},
   "outputs": [],
   "source": [
    "pps_system = Pack(molecules=pps_chains, density=1.2 * u.g/(u.cm**3))\n",
    "bead_spring_system = Pack(molecules=bead_spring_chains, density=0.6/u.nm**3)\n",
    "ellipsoid_system = Pack(molecules=ellipsoid_chains, density=0.6/u.nm**3)"
   ]
  },
  {
   "cell_type": "code",
   "execution_count": 4,
   "id": "272dbbc8-62ba-4023-995d-1052f6c1c897",
   "metadata": {},
   "outputs": [],
   "source": [
    "bead_spring_ff = BeadSpring(\n",
    "    beads={\"A\": dict(epsilon=1.0, sigma=1.0)},\n",
    "    bonds={\"A-A\": dict(k=300, r0=1.1)},\n",
    "    angles={\"A-A-A\": dict(k=300, t0=2.6)},\n",
    "    r_cut=2.5\n",
    ")\n",
    "\n",
    "ellipsoid_ff = EllipsoidForcefield(\n",
    "    lpar=1.0,\n",
    "    lperp=0.4,\n",
    "    epsilon=1.0,\n",
    "    r_cut=2.5,\n",
    "    bond_k=300,\n",
    "    bond_r0=0.1,\n",
    "    angle_k=150,\n",
    "    angle_theta0=2.6\n",
    ")\n",
    "\n",
    "pps_system.apply_forcefield(force_field=OPLS_AA_PPS(), r_cut=2.5, auto_scale=True)"
   ]
  },
  {
   "cell_type": "code",
   "execution_count": 9,
   "id": "3ae4076e-7bc1-4e20-b109-e2d9141406a5",
   "metadata": {},
   "outputs": [
    {
     "name": "stdout",
     "output_type": "stream",
     "text": [
      "Initializing simulation state from a gsd.hoomd.Frame.\n",
      "Initializing simulation state from a gsd.hoomd.Frame.\n",
      "Initializing simulation state from a gsd.hoomd.Frame.\n"
     ]
    }
   ],
   "source": [
    "pps_sim = Simulation(initial_state=pps_system.hoomd_snapshot, forcefield=pps_system.hoomd_forcefield)\n",
    "bead_spring_sim = Simulation(initial_state=bead_spring_system.hoomd_snapshot, forcefield=bead_spring_ff.hoomd_forces)\n",
    "ellipsoid_sim = Simulation(initial_state=ellipsoid_system.hoomd_snapshot, forcefield=ellipsoid_ff.hoomd_forces)"
   ]
  },
  {
   "cell_type": "code",
   "execution_count": null,
   "id": "ddb1287e-c5f9-4f3d-89cc-20e71271dc4d",
   "metadata": {},
   "outputs": [],
   "source": []
  }
 ],
 "metadata": {
  "kernelspec": {
   "display_name": "Python 3 (ipykernel)",
   "language": "python",
   "name": "python3"
  },
  "language_info": {
   "codemirror_mode": {
    "name": "ipython",
    "version": 3
   },
   "file_extension": ".py",
   "mimetype": "text/x-python",
   "name": "python",
   "nbconvert_exporter": "python",
   "pygments_lexer": "ipython3",
   "version": "3.11.0"
  }
 },
 "nbformat": 4,
 "nbformat_minor": 5
}
