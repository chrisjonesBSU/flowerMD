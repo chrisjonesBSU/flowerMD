{
 "cells": [
  {
   "cell_type": "markdown",
   "metadata": {},
   "source": [
    "# Running a Polymer Welding Workflow with flowerMD"
   ]
  },
  {
   "cell_type": "markdown",
   "metadata": {},
   "source": [
    "## Overview:\n",
    "In this tutorial, we'll show a workflow that involves multiple steps of initializing a system and running simulations. In this case, part of initializing a system invovles running a simulation where the final structure of the simulaton serves as the input for the next round of system building and simulation.\n",
    "\n",
    "**Specifically, the goal of this workflow is to model the fusion joining (i.e. welding) of two separate pieces of bulk polymer melt**. This requires that we have an equilibrated polymer melt system with at least 1 flat surface (i.e. where the periodic boundaries are eliminated). For the purposes of this tutorial, we will refer to this as a \"slab\". Once a slab structure has been created, we will create an interface system where two slabs are joined together, and run a fusion welding simulation. Finally, the welded system will be tested using a tensile test simulation.\n",
    "\n",
    "In summary, this tutorial will go through the following workflow:\n",
    "\n",
    "1. Initialize a new polymer system using poly(ethylene)\n",
    "2. Run a simulation which yields a poly(ethylene) slab\n",
    "3. Build a system that is an interface between 2 poly(ethylene) slabs.\n",
    "4. Run a fusion welding simulation\n",
    "5. Run a tensile test simulation\n",
    "\n",
    "The first step utilizes the same base classes dicussed in the introduction tutorial where we pull from `flowermd.library.polymers` and `flowermd.base.system` to build up poly(ethylen) chains and create an initial system. However, the rest of the workflow will use `flowermd.modules.welding` and `flowermd.library.simulations.tensile`.  These two modules inheret from the base `flowermd.base.Simulation` class and contain additional features geared towards this specific workflow."
   ]
  },
  {
   "cell_type": "code",
   "execution_count": 1,
   "metadata": {},
   "outputs": [],
   "source": [
    " import warnings\n",
    "warnings.filterwarnings('ignore')"
   ]
  },
  {
   "cell_type": "code",
   "execution_count": 3,
   "metadata": {},
   "outputs": [],
   "source": [
    "import flowermd\n",
    "\n",
    "from flowermd.library import PolyEthylene, OPLS_AA\n",
    "from flowermd import Pack\n",
    "from flowermd.modules.welding import SlabSimulation, Interface, WeldSimulation\n",
    "\n",
    "from cmeutils.visualize import FresnelGSD\n",
    "import gsd\n",
    "import matplotlib.pyplot as plt\n",
    "import numpy as np\n",
    "import pickle\n",
    "import unyt as u"
   ]
  },
  {
   "cell_type": "markdown",
   "metadata": {},
   "source": [
    "## Step 1: Creating a \"Slab\"\n",
    "In the next cell, we will initialize a new system with 30 chains of poly(ethylene) with each chain containing 12 repeat units. We'll use the `Pack` class from `flowermd.base.system`.\n",
    "\n",
    "**Note:**\n",
    "1. For the sake of speeding up the simulation, hydrogen atoms will be removed (i.e. we'll run a \"united atom\" simulation) and charges won't be included in the simulation forcefield."
   ]
  },
  {
   "cell_type": "code",
   "execution_count": null,
   "metadata": {},
   "outputs": [],
   "source": [
    "molecule = PolyEthylene(num_mols=30, lengths=12)\n",
    "\n",
    "system = Pack(\n",
    "    molecules=molecule,\n",
    "    density=1.1 * u.g/u.cm**3,\n",
    ")\n",
    "system.apply_forcefield(r_cut=2.5, force_field=OPLS_AA(), auto_scale=True,remove_charges=True, remove_hydrogens=True)"
   ]
  },
  {
   "cell_type": "markdown",
   "metadata": {},
   "source": [
    "#### `flowermd.modules.welding.SlabSimulation`\n",
    "\n",
    "In this cell, you'll notice we are not using `flowermd.base.Simulation` but instead using `SlabSimulation`. This is a simulation class that inherits from `flowermd.base.Simulation` but adds two additional features:\n",
    "\n",
    "1. There is a parameter called `interface_axis` which determines which primary box face will be kept flat. This is required to create a interface system afterward.\n",
    "2. hoomd wall forces (`hoomd.md.external.wall.LJ`) are how we can elimiate one of the periodic boundaries, and create a flat surface. These forces are automatically added to the overall forcefield, and set up depending on the value used for `interface_axis`\n",
    "\n",
    "**Note:**  \n",
    "\n",
    "Since we are running multiple simulations we'll utilize python pickeling in order to re-use the Hoomd forcefield. There is a built-in method in the `Simulation` class which makes this step easier"
   ]
  },
  {
   "cell_type": "code",
   "execution_count": null,
   "metadata": {},
   "outputs": [],
   "source": [
    "sim = SlabSimulation.from_system(\n",
    "    system=system,\n",
    "    interface_axis=(1,0,0),\n",
    "    gsd_file_name=\"slab_x_interface.gsd\",\n",
    ")"
   ]
  },
  {
   "cell_type": "markdown",
   "metadata": {},
   "source": [
    "Here, we can look at the complete set of forces that make up the forcefield. You'll notice that in addition to the typical forces of bonds, angles, dihedrals and pairs, there is also a `hoomd.md.external.wall.LJ` force as we would expect."
   ]
  },
  {
   "cell_type": "code",
   "execution_count": null,
   "metadata": {},
   "outputs": [],
   "source": [
    "sim.forces"
   ]
  },
  {
   "cell_type": "markdown",
   "metadata": {},
   "source": [
    "If we look at the details of the wall force we will notice two features:\n",
    "1. Two walls are created where the origin for each is created along opposite ends of the x-axis of the simulation volume.\n",
    "2. The forces of the walls point inward along the same axis."
   ]
  },
  {
   "cell_type": "code",
   "execution_count": null,
   "metadata": {},
   "outputs": [],
   "source": [
    "for wall in sim.forces[-1].walls:\n",
    "    print(wall)\n",
    "print()\n",
    "print(\"Simulation volume:\", sim.box_lengths_reduced)"
   ]
  },
  {
   "cell_type": "markdown",
   "metadata": {},
   "source": [
    "Similar to the introduction tutorial, we will use the `run_update_volume` method to reach a desired bulk density of $1.2 \\dfrac{g}{cm^3}$. It is important we maintain the walls while the volume is updated. `flowermd.base.Simulation` checks for the presence of wall forces when using `run_update_volume` and ensures the wall positions updated along with the box."
   ]
  },
  {
   "cell_type": "code",
   "execution_count": null,
   "metadata": {},
   "outputs": [],
   "source": [
    "target_box = flowermd.utils.get_target_box_mass_density(density=1.2*u.g/u.cm**3, mass=sim.mass.to(\"g\"))\n",
    "\n",
    "sim.run_update_volume(final_box_lengths=target_box, n_steps=5e4, kT=5.0, period=100, tau_kt=0.001)"
   ]
  },
  {
   "cell_type": "markdown",
   "metadata": {},
   "source": [
    "Now that we reached the target bulk volume, we will run a `NVT` simulation using `run_NVT`. Normally, this step will be ran long enough to ensure the system reaches equilibration, but for the sake of this tutorial we'll run for a small number of steps."
   ]
  },
  {
   "cell_type": "code",
   "execution_count": null,
   "metadata": {},
   "outputs": [],
   "source": [
    "sim.run_NVT(kT=5.0, n_steps=4e4, tau_kt=0.001)"
   ]
  },
  {
   "cell_type": "markdown",
   "metadata": {},
   "source": [
    "We can use the `pickle_forcefield` method to save and re-use the hoomd forces generated by the `System` class. This saves time when running multiple simulations that use the same set of forces. First, before calling this method, we will remove the wall forces."
   ]
  },
  {
   "cell_type": "code",
   "execution_count": null,
   "metadata": {},
   "outputs": [],
   "source": [
    "sim.remove_walls(wall_axis=(1,0,0))\n",
    "sim.pickle_forcefield()\n",
    "sim.flush_writers()"
   ]
  },
  {
   "cell_type": "markdown",
   "metadata": {},
   "source": [
    "#### Visualizing the polyethylene slab:\n",
    "\n",
    "We can use a util from `cmeutils` that utilizes the [**Fresnel**](https://fresnel.readthedocs.io/en/v0.13.5/) python package under the hood to let us view the simulation trajectory in this notebook.\n",
    "\n",
    "In this case, we are looking down the y-axis of the simulation volume, with the x-axis running left to right. This is the final frame of the simulation trajectory."
   ]
  },
  {
   "cell_type": "code",
   "execution_count": null,
   "metadata": {},
   "outputs": [],
   "source": [
    "sim_viewer = FresnelGSD(gsd_file=\"slab_x_interface.gsd\", view_axis=(0, 1, 0), frame=-1)\n",
    "sim_viewer.view()"
   ]
  },
  {
   "cell_type": "markdown",
   "metadata": {},
   "source": [
    "You can see that particles are not passing through the simulation volume in the x-direction (left/right). In fact, we can see a small amount of space within the simulation volume along that direction where particles can't access, this is because of the repulsive force caused by the wall.\n",
    "\n",
    "Still, we can better visualize this using the unwrapped particle positions.\n",
    "\n",
    "**Note**\n",
    "We'll adjust the height paramter to zoom out our view since the particle positions are outside the simulation volume"
   ]
  },
  {
   "cell_type": "code",
   "execution_count": null,
   "metadata": {},
   "outputs": [],
   "source": [
    "sim_viewer.unwrap_positions = True\n",
    "sim_viewer.height += 3\n",
    "sim_viewer.view()"
   ]
  },
  {
   "cell_type": "markdown",
   "metadata": {},
   "source": [
    "We can change our view direction to look down the interface axis. We can see particles crossing the periodic boundaries in both the y direction (left/right) and z direction(up/down)."
   ]
  },
  {
   "cell_type": "code",
   "execution_count": null,
   "metadata": {},
   "outputs": [],
   "source": [
    "sim_viewer.view_axis = (1,0,0)\n",
    "sim_viewer.view()"
   ]
  },
  {
   "cell_type": "markdown",
   "metadata": {},
   "source": [
    "## Step 2: Creating an interface from the slab\n",
    "\n",
    "Now that the slab simulation is finished, we will use the final structure as the input to create an interface system. This system initialization step differs from those in `flowermd.base.system` where the inputs are molecules, number of molecules, forcefield, etc. The welding module has its own class (`flowermd.modules.welding.Interface`) desiged to create interfaces from slab simulation GSD files. The `Interface` class creates a new `gsd.hoomd.Snapshot` where the slab system is duplicated and translated along the interface axis.\n",
    "\n",
    "If we look at the details of the new system we'll notice a couple of things:\n",
    "1. The number of particles has doubled, from 720 to 1440\n",
    "2. The box lengths along the interface axis are doubled while the other two box lengths remain the same"
   ]
  },
  {
   "cell_type": "code",
   "execution_count": null,
   "metadata": {},
   "outputs": [],
   "source": [
    "interface = Interface(gsd_files=[\"slab_x_interface.gsd\"], interface_axis=(1, 0, 0), gap=0.05)\n",
    "\n",
    "print(type(interface.hoomd_snapshot))\n",
    "print(\"Slab number of particles:\", system.n_particles)\n",
    "print(\"Interface number of particles:\", interface.hoomd_snapshot.particles.N)\n",
    "print()\n",
    "print(\"Slab box lengths:\", sim.box_lengths_reduced)\n",
    "print(\"Interface box lengths:\", interface.hoomd_snapshot.configuration.box[:3])"
   ]
  },
  {
   "cell_type": "markdown",
   "metadata": {},
   "source": [
    "## Step 3: Running a welding simulation\n",
    "\n"
   ]
  },
  {
   "cell_type": "markdown",
   "metadata": {},
   "source": [
    "The HOOMD forcefield was initially created in the `flowermd.base.System` class. However, since the interface system is not initialized in the same way, we can reuse the HOOMD forces we saved in a previous cell (by using `Simulation.pickle_forcefield()`) and pass it directly in this simulation instance."
   ]
  },
  {
   "cell_type": "code",
   "execution_count": null,
   "metadata": {},
   "outputs": [],
   "source": [
    "# Open and load the forcefield picke file\n",
    "with open(\"forcefield.pickle\", \"rb\") as f:\n",
    "    hoomd_forces = pickle.load(f)\n",
    "\n",
    "# Let's see what is stored in this pickle file\n",
    "for force in hoomd_forces:\n",
    "    print(force)"
   ]
  },
  {
   "cell_type": "markdown",
   "metadata": {},
   "source": [
    "We'll initialize the `WeldSimulation` class in a similar way to initializing any simulation in flowerMD.\n",
    "\n",
    "Again, this particular simulation class has a `interface_axis` parameter that we will set depending on the interface axis used in the slab simulation.\n",
    "\n",
    "For the `initial_state`, we'll call the `hoomd_snapshot` attribute from the `Interface` system created previously. For the `forcefield` parameter we'll pass in the list of hoomd force objects we loaded with `pickle`"
   ]
  },
  {
   "cell_type": "code",
   "execution_count": null,
   "metadata": {},
   "outputs": [],
   "source": [
    "weld_sim = WeldSimulation(\n",
    "    initial_state=interface.hoomd_snapshot,\n",
    "    forcefield=hoomd_forces,\n",
    "    interface_axis=(1, 0, 0),\n",
    "    gsd_file_name=\"weld.gsd\",\n",
    "    log_file_name=\"weld_log.txt\",\n",
    "    log_write_freq=500,\n",
    "    dt=0.0003\n",
    ")"
   ]
  },
  {
   "cell_type": "markdown",
   "metadata": {},
   "source": [
    "Similar to `SlabSimulation` the `WeldSimulaton` class also adds walls along the interface axis. This is because we only want diffusion and mixing to occur along one direction of the interface. We can see that a `hoomd.md.external.wall.LJ` object now exists in `weld_sim.forces` and the wall force details are aligned with the box geometry and `interface_axis` parameter."
   ]
  },
  {
   "cell_type": "code",
   "execution_count": null,
   "metadata": {},
   "outputs": [],
   "source": [
    "weld_sim.forces"
   ]
  },
  {
   "cell_type": "code",
   "execution_count": null,
   "metadata": {},
   "outputs": [],
   "source": [
    "for wall in weld_sim.forces[-1].walls:\n",
    "    print(wall)\n",
    "print()\n",
    "print(\"Simulation volume:\", weld_sim.box_lengths_reduced)"
   ]
  },
  {
   "cell_type": "markdown",
   "metadata": {},
   "source": [
    "#### Running the weld simulation\n",
    "This process of polymer chain diffusion across the interface is slow, so for the purposes of this tutorial we likely won't be able to run long enough to see significant diffusion and entanglement across the interface.\n",
    "\n",
    "**Note:**  \n",
    "Our system size has doubled compared to the slab simulation, so the TPS (time steps per second) has significantly decreased.\n",
    "This should have a TPS around 300, so 20,000 steps will take about 1 minute to run. You can change the value for `n_steps` accordingly.  \n",
    "\n",
    "For the sake of the tutorial, to achieve as much diffusion as possible in a short amount of time, we are also using a very high temperature.\n"
   ]
  },
  {
   "cell_type": "code",
   "execution_count": null,
   "metadata": {},
   "outputs": [],
   "source": [
    "weld_sim.run_NVT(kT=10.0, n_steps=7e4, tau_kt=0.001)\n",
    "cooling_ramp = weld_sim.temperature_ramp(n_steps=2e4, kT_start=10.0, kT_final=2.0)\n",
    "weld_sim.run_NVT(kT=cooling_ramp, n_steps=2e4, tau_kt=0.001)\n",
    "weld_sim.save_restart_gsd(\"weld_restart.gsd\")\n",
    "weld_sim.flush_writers()"
   ]
  },
  {
   "cell_type": "markdown",
   "metadata": {},
   "source": [
    "#### Viewing the interface simulation before and after welding\n",
    "\n",
    "We can load the GSD file output by `weld_sim` and view the first and last frames.\n",
    "Here, we set the particle colors based on their starting position relative to the interface.\n",
    "In the first frame, we can see the interface system now consists of two slabs, with a small gap between them along the interface axis."
   ]
  },
  {
   "cell_type": "code",
   "execution_count": null,
   "metadata": {},
   "outputs": [],
   "source": [
    "sim_viewer = FresnelGSD(gsd_file=\"weld.gsd\", view_axis=(0, 1, 0), frame=0, height=12)\n",
    "weld_colors = np.zeros_like(sim_viewer.positions)\n",
    "weld_colors[:weld_colors.shape[0]//2 + 1] = np.array([0.5, 0.25, 0.5])\n",
    "weld_colors[weld_colors.shape[0]//2 + 1:] = np.array([0.5, 0.1, 0.1])\n",
    "sim_viewer.colors = weld_colors\n",
    "sim_viewer.view(width=500, height=500)"
   ]
  },
  {
   "cell_type": "markdown",
   "metadata": {},
   "source": [
    "After running for a short amount of time, we can see the gap at the interface is gone."
   ]
  },
  {
   "cell_type": "code",
   "execution_count": null,
   "metadata": {},
   "outputs": [],
   "source": [
    "sim_viewer.frame = -1\n",
    "sim_viewer.height = 12\n",
    "sim_viewer.view_axis = (0, 1, 0)\n",
    "sim_viewer.view(width=500, height=500)"
   ]
  },
  {
   "cell_type": "markdown",
   "metadata": {},
   "source": [
    "While we can't run long enough in this tutorial for significant chain diffusion to occur, it might still be interesting to look at the change in the Lennard Jones pair energy as the two slabs begin to adhere together. In the cell below, we plot the per-particle pair energy vs time step."
   ]
  },
  {
   "cell_type": "code",
   "execution_count": null,
   "metadata": {},
   "outputs": [],
   "source": [
    "sim_data = np.genfromtxt(\"weld_log.txt\", names=True)\n",
    "lj_energy = sim_data[\"mdpairLJenergy\"]\n",
    "time_step = sim_data[\"flowermdmodulesweldingWeldSimulationtimestep\"]\n",
    "plt.plot(time_step, lj_energy/interface.hoomd_snapshot.particles.N, linewidth=3)\n",
    "plt.ylabel(\"$\\dfrac{\\epsilon}{N}$\", fontsize=15)\n",
    "plt.xlabel(\"Time step\", fontsize=15)"
   ]
  },
  {
   "cell_type": "markdown",
   "metadata": {},
   "source": [
    "# Step 4: Running a tensile test simulation"
   ]
  },
  {
   "cell_type": "code",
   "execution_count": 1,
   "metadata": {},
   "outputs": [
    {
     "name": "stderr",
     "output_type": "stream",
     "text": [
      "/home/chris/miniconda3/envs/flowermd-dev/lib/python3.11/site-packages/mdtraj/formats/__init__.py:13: DeprecationWarning: 'xdrlib' is deprecated and slated for removal in Python 3.13\n",
      "  from mdtraj.formats.trr import TRRTrajectoryFile\n"
     ]
    }
   ],
   "source": [
    "from flowermd.library.simulations.tensile import Tensile\n",
    "import pickle\n",
    "import matplotlib.pyplot as plt\n",
    "import gsd.hoomd"
   ]
  },
  {
   "cell_type": "code",
   "execution_count": 2,
   "metadata": {},
   "outputs": [
    {
     "name": "stdout",
     "output_type": "stream",
     "text": [
      "Initializing simulation state from a GSD file.\n"
     ]
    },
    {
     "name": "stderr",
     "output_type": "stream",
     "text": [
      "/home/chris/cme/forks/flowerMD/flowermd/utils/actions.py:51: DeprecationWarning: Conversion of an array with ndim > 0 to a scalar is deprecated, and will error in future. Ensure you extract a single element from your array before performing this operation. (Deprecated NumPy 1.25.)\n",
      "  self.tensor_log_axis = tensor_index_map[int(self.axis)]\n"
     ]
    }
   ],
   "source": [
    "# Open and load the forcefield picke file\n",
    "with open(\"forcefield.pickle\", \"rb\") as f:\n",
    "    hoomd_forces = pickle.load(f)\n",
    "    \n",
    "tensile_sim = Tensile(\n",
    "    initial_state=\"weld_restart.gsd\",\n",
    "    forcefield=hoomd_forces,\n",
    "    tensile_axis=(1,0,0),\n",
    "    gsd_file_name=\"tensile.gsd\",\n",
    "    gsd_write_freq=1000,\n",
    "    log_file_name=\"tensile_log.txt\",\n",
    "    log_write_freq=100,\n",
    "    fix_ratio=0.30\n",
    ")"
   ]
  },
  {
   "cell_type": "code",
   "execution_count": 3,
   "metadata": {
    "scrolled": true
   },
   "outputs": [
    {
     "name": "stderr",
     "output_type": "stream",
     "text": [
      "/home/chris/miniconda3/envs/flowermd-dev/lib/python3.11/site-packages/hoomd/update/box_resize.py:147: FutureWarning: box1, box2, and variant are deprecated, use `box`\n",
      "  warnings.warn('box1, box2, and variant are deprecated, use `box`',\n"
     ]
    },
    {
     "name": "stdout",
     "output_type": "stream",
     "text": [
      "Step 200 of 100001; TPS: 320.08; ETA: 5.2 minutes\n",
      "Step 750 of 100001; TPS: 426.31; ETA: 3.9 minutes\n",
      "Step 1300 of 100001; TPS: 454.95; ETA: 3.6 minutes\n",
      "Step 1850 of 100001; TPS: 467.96; ETA: 3.5 minutes\n",
      "Step 2400 of 100001; TPS: 474.73; ETA: 3.4 minutes\n",
      "Step 2950 of 100001; TPS: 479.48; ETA: 3.4 minutes\n",
      "Step 3500 of 100001; TPS: 482.34; ETA: 3.3 minutes\n",
      "Step 4050 of 100001; TPS: 484.48; ETA: 3.3 minutes\n",
      "Step 4600 of 100001; TPS: 486.73; ETA: 3.3 minutes\n",
      "Step 5150 of 100001; TPS: 488.66; ETA: 3.2 minutes\n",
      "Step 5700 of 100001; TPS: 490.02; ETA: 3.2 minutes\n",
      "Step 6250 of 100001; TPS: 491.52; ETA: 3.2 minutes\n",
      "Step 6800 of 100001; TPS: 492.54; ETA: 3.2 minutes\n",
      "Step 7350 of 100001; TPS: 493.49; ETA: 3.1 minutes\n",
      "Step 7900 of 100001; TPS: 494.69; ETA: 3.1 minutes\n",
      "Step 8450 of 100001; TPS: 495.85; ETA: 3.1 minutes\n",
      "Step 9000 of 100001; TPS: 496.68; ETA: 3.1 minutes\n",
      "Step 9550 of 100001; TPS: 497.19; ETA: 3.0 minutes\n",
      "Step 10100 of 100001; TPS: 497.82; ETA: 3.0 minutes\n",
      "Step 10650 of 100001; TPS: 498.59; ETA: 3.0 minutes\n",
      "Step 11200 of 100001; TPS: 499.56; ETA: 3.0 minutes\n",
      "Step 11750 of 100001; TPS: 500.36; ETA: 2.9 minutes\n",
      "Step 12300 of 100001; TPS: 500.9; ETA: 2.9 minutes\n",
      "Step 12850 of 100001; TPS: 501.4; ETA: 2.9 minutes\n",
      "Step 13400 of 100001; TPS: 501.85; ETA: 2.9 minutes\n",
      "Step 13950 of 100001; TPS: 502.44; ETA: 2.9 minutes\n",
      "Step 14500 of 100001; TPS: 502.91; ETA: 2.8 minutes\n",
      "Step 15050 of 100001; TPS: 503.18; ETA: 2.8 minutes\n",
      "Step 15600 of 100001; TPS: 503.78; ETA: 2.8 minutes\n",
      "Step 16150 of 100001; TPS: 504.14; ETA: 2.8 minutes\n",
      "Step 16700 of 100001; TPS: 504.46; ETA: 2.8 minutes\n",
      "Step 17250 of 100001; TPS: 504.87; ETA: 2.7 minutes\n",
      "Step 17800 of 100001; TPS: 505.5; ETA: 2.7 minutes\n",
      "Step 18350 of 100001; TPS: 505.99; ETA: 2.7 minutes\n",
      "Step 18900 of 100001; TPS: 506.45; ETA: 2.7 minutes\n",
      "Step 19450 of 100001; TPS: 506.64; ETA: 2.6 minutes\n",
      "Step 20000 of 100001; TPS: 507.15; ETA: 2.6 minutes\n",
      "Step 20550 of 100001; TPS: 507.63; ETA: 2.6 minutes\n",
      "Step 21100 of 100001; TPS: 508.04; ETA: 2.6 minutes\n",
      "Step 21650 of 100001; TPS: 508.75; ETA: 2.6 minutes\n",
      "Step 22200 of 100001; TPS: 509.38; ETA: 2.5 minutes\n",
      "Step 22750 of 100001; TPS: 509.81; ETA: 2.5 minutes\n",
      "Step 23300 of 100001; TPS: 510.15; ETA: 2.5 minutes\n",
      "Step 23850 of 100001; TPS: 510.72; ETA: 2.5 minutes\n",
      "Step 24400 of 100001; TPS: 511.15; ETA: 2.5 minutes\n",
      "Step 24950 of 100001; TPS: 511.53; ETA: 2.4 minutes\n",
      "Step 25500 of 100001; TPS: 511.9; ETA: 2.4 minutes\n",
      "Step 26050 of 100001; TPS: 512.35; ETA: 2.4 minutes\n",
      "Step 26600 of 100001; TPS: 512.81; ETA: 2.4 minutes\n",
      "Step 27150 of 100001; TPS: 513.08; ETA: 2.4 minutes\n",
      "Step 27700 of 100001; TPS: 513.47; ETA: 2.3 minutes\n",
      "Step 28250 of 100001; TPS: 513.99; ETA: 2.3 minutes\n",
      "Step 28800 of 100001; TPS: 514.48; ETA: 2.3 minutes\n",
      "Step 29350 of 100001; TPS: 514.87; ETA: 2.3 minutes\n",
      "Step 29900 of 100001; TPS: 515.19; ETA: 2.3 minutes\n",
      "Step 30450 of 100001; TPS: 515.64; ETA: 2.2 minutes\n",
      "Step 31000 of 100001; TPS: 516.15; ETA: 2.2 minutes\n",
      "Step 31550 of 100001; TPS: 516.57; ETA: 2.2 minutes\n",
      "Step 32100 of 100001; TPS: 517.0; ETA: 2.2 minutes\n",
      "Step 32650 of 100001; TPS: 517.41; ETA: 2.2 minutes\n",
      "Step 33200 of 100001; TPS: 517.84; ETA: 2.1 minutes\n",
      "Step 33750 of 100001; TPS: 518.32; ETA: 2.1 minutes\n",
      "Step 34300 of 100001; TPS: 518.66; ETA: 2.1 minutes\n",
      "Step 34850 of 100001; TPS: 519.01; ETA: 2.1 minutes\n",
      "Step 35400 of 100001; TPS: 519.47; ETA: 2.1 minutes\n",
      "Step 35950 of 100001; TPS: 519.76; ETA: 2.1 minutes\n",
      "Step 36500 of 100001; TPS: 520.16; ETA: 2.0 minutes\n",
      "Step 37050 of 100001; TPS: 520.41; ETA: 2.0 minutes\n",
      "Step 37600 of 100001; TPS: 520.91; ETA: 2.0 minutes\n",
      "Step 38150 of 100001; TPS: 521.3; ETA: 2.0 minutes\n",
      "Step 38700 of 100001; TPS: 521.56; ETA: 2.0 minutes\n",
      "Step 39250 of 100001; TPS: 521.93; ETA: 1.9 minutes\n",
      "Step 39800 of 100001; TPS: 522.32; ETA: 1.9 minutes\n",
      "Step 40350 of 100001; TPS: 522.65; ETA: 1.9 minutes\n",
      "Step 40900 of 100001; TPS: 523.02; ETA: 1.9 minutes\n",
      "Step 41450 of 100001; TPS: 523.35; ETA: 1.9 minutes\n",
      "Step 42000 of 100001; TPS: 523.82; ETA: 1.8 minutes\n",
      "Step 42550 of 100001; TPS: 524.06; ETA: 1.8 minutes\n",
      "Step 43100 of 100001; TPS: 524.39; ETA: 1.8 minutes\n",
      "Step 43650 of 100001; TPS: 524.74; ETA: 1.8 minutes\n",
      "Step 44200 of 100001; TPS: 525.17; ETA: 1.8 minutes\n",
      "Step 44750 of 100001; TPS: 525.5; ETA: 1.8 minutes\n",
      "Step 45300 of 100001; TPS: 525.92; ETA: 1.7 minutes\n",
      "Step 45850 of 100001; TPS: 526.24; ETA: 1.7 minutes\n",
      "Step 46400 of 100001; TPS: 526.58; ETA: 1.7 minutes\n",
      "Step 46950 of 100001; TPS: 526.96; ETA: 1.7 minutes\n",
      "Step 47500 of 100001; TPS: 527.36; ETA: 1.7 minutes\n",
      "Step 48050 of 100001; TPS: 527.65; ETA: 1.6 minutes\n",
      "Step 48600 of 100001; TPS: 528.03; ETA: 1.6 minutes\n",
      "Step 49150 of 100001; TPS: 528.36; ETA: 1.6 minutes\n",
      "Step 49700 of 100001; TPS: 528.68; ETA: 1.6 minutes\n",
      "Step 50250 of 100001; TPS: 528.93; ETA: 1.6 minutes\n",
      "Step 50800 of 100001; TPS: 529.34; ETA: 1.5 minutes\n",
      "Step 51350 of 100001; TPS: 529.66; ETA: 1.5 minutes\n",
      "Step 51900 of 100001; TPS: 530.01; ETA: 1.5 minutes\n",
      "Step 52450 of 100001; TPS: 530.38; ETA: 1.5 minutes\n",
      "Step 53000 of 100001; TPS: 530.71; ETA: 1.5 minutes\n",
      "Step 53550 of 100001; TPS: 531.02; ETA: 1.5 minutes\n",
      "Step 54100 of 100001; TPS: 531.36; ETA: 1.4 minutes\n",
      "Step 54650 of 100001; TPS: 531.64; ETA: 1.4 minutes\n",
      "Step 55200 of 100001; TPS: 532.02; ETA: 1.4 minutes\n",
      "Step 55750 of 100001; TPS: 532.33; ETA: 1.4 minutes\n",
      "Step 56300 of 100001; TPS: 532.68; ETA: 1.4 minutes\n",
      "Step 56850 of 100001; TPS: 532.91; ETA: 1.3 minutes\n",
      "Step 57400 of 100001; TPS: 533.3; ETA: 1.3 minutes\n",
      "Step 57950 of 100001; TPS: 533.59; ETA: 1.3 minutes\n",
      "Step 58500 of 100001; TPS: 533.88; ETA: 1.3 minutes\n",
      "Step 59050 of 100001; TPS: 534.25; ETA: 1.3 minutes\n",
      "Step 59600 of 100001; TPS: 534.59; ETA: 1.3 minutes\n",
      "Step 60150 of 100001; TPS: 534.84; ETA: 1.2 minutes\n",
      "Step 60700 of 100001; TPS: 535.12; ETA: 1.2 minutes\n",
      "Step 61250 of 100001; TPS: 535.49; ETA: 1.2 minutes\n",
      "Step 61800 of 100001; TPS: 535.86; ETA: 1.2 minutes\n",
      "Step 62350 of 100001; TPS: 536.14; ETA: 1.2 minutes\n",
      "Step 62900 of 100001; TPS: 536.49; ETA: 1.2 minutes\n",
      "Step 63450 of 100001; TPS: 536.83; ETA: 1.1 minutes\n",
      "Step 64000 of 100001; TPS: 537.11; ETA: 1.1 minutes\n",
      "Step 64550 of 100001; TPS: 537.46; ETA: 1.1 minutes\n",
      "Step 65100 of 100001; TPS: 537.77; ETA: 1.1 minutes\n",
      "Step 65650 of 100001; TPS: 538.08; ETA: 1.1 minutes\n",
      "Step 66200 of 100001; TPS: 538.38; ETA: 1.0 minutes\n",
      "Step 66750 of 100001; TPS: 538.7; ETA: 1.0 minutes\n",
      "Step 67300 of 100001; TPS: 538.9; ETA: 1.0 minutes\n",
      "Step 67850 of 100001; TPS: 539.22; ETA: 1.0 minutes\n",
      "Step 68400 of 100001; TPS: 539.51; ETA: 1.0 minutes\n",
      "Step 68950 of 100001; TPS: 539.82; ETA: 1.0 minutes\n",
      "Step 69500 of 100001; TPS: 540.12; ETA: 0.9 minutes\n",
      "Step 70050 of 100001; TPS: 540.43; ETA: 0.9 minutes\n",
      "Step 70600 of 100001; TPS: 540.77; ETA: 0.9 minutes\n",
      "Step 71150 of 100001; TPS: 541.05; ETA: 0.9 minutes\n",
      "Step 71700 of 100001; TPS: 541.36; ETA: 0.9 minutes\n",
      "Step 72250 of 100001; TPS: 541.65; ETA: 0.9 minutes\n",
      "Step 72800 of 100001; TPS: 542.0; ETA: 0.8 minutes\n",
      "Step 73350 of 100001; TPS: 542.25; ETA: 0.8 minutes\n",
      "Step 73900 of 100001; TPS: 542.51; ETA: 0.8 minutes\n",
      "Step 74450 of 100001; TPS: 542.83; ETA: 0.8 minutes\n",
      "Step 75000 of 100001; TPS: 543.14; ETA: 0.8 minutes\n",
      "Step 75550 of 100001; TPS: 543.44; ETA: 0.7 minutes\n",
      "Step 76100 of 100001; TPS: 543.69; ETA: 0.7 minutes\n",
      "Step 76650 of 100001; TPS: 543.95; ETA: 0.7 minutes\n",
      "Step 77200 of 100001; TPS: 544.19; ETA: 0.7 minutes\n",
      "Step 77750 of 100001; TPS: 544.47; ETA: 0.7 minutes\n",
      "Step 78300 of 100001; TPS: 544.7; ETA: 0.7 minutes\n",
      "Step 78850 of 100001; TPS: 544.97; ETA: 0.6 minutes\n",
      "Step 79400 of 100001; TPS: 545.24; ETA: 0.6 minutes\n",
      "Step 79950 of 100001; TPS: 545.45; ETA: 0.6 minutes\n",
      "Step 80500 of 100001; TPS: 545.73; ETA: 0.6 minutes\n",
      "Step 81050 of 100001; TPS: 546.0; ETA: 0.6 minutes\n",
      "Step 81600 of 100001; TPS: 546.3; ETA: 0.6 minutes\n",
      "Step 82150 of 100001; TPS: 546.59; ETA: 0.5 minutes\n",
      "Step 82700 of 100001; TPS: 546.86; ETA: 0.5 minutes\n",
      "Step 83250 of 100001; TPS: 547.11; ETA: 0.5 minutes\n",
      "Step 83800 of 100001; TPS: 547.39; ETA: 0.5 minutes\n",
      "Step 84350 of 100001; TPS: 547.59; ETA: 0.5 minutes\n",
      "Step 84900 of 100001; TPS: 547.79; ETA: 0.5 minutes\n",
      "Step 85450 of 100001; TPS: 548.05; ETA: 0.4 minutes\n",
      "Step 86000 of 100001; TPS: 548.28; ETA: 0.4 minutes\n",
      "Step 86550 of 100001; TPS: 548.54; ETA: 0.4 minutes\n",
      "Step 87100 of 100001; TPS: 548.77; ETA: 0.4 minutes\n",
      "Step 87650 of 100001; TPS: 549.03; ETA: 0.4 minutes\n",
      "Step 88200 of 100001; TPS: 549.32; ETA: 0.4 minutes\n",
      "Step 88750 of 100001; TPS: 549.53; ETA: 0.3 minutes\n",
      "Step 89300 of 100001; TPS: 549.7; ETA: 0.3 minutes\n",
      "Step 89850 of 100001; TPS: 549.91; ETA: 0.3 minutes\n",
      "Step 90400 of 100001; TPS: 550.17; ETA: 0.3 minutes\n",
      "Step 90950 of 100001; TPS: 550.42; ETA: 0.3 minutes\n",
      "Step 91500 of 100001; TPS: 550.64; ETA: 0.3 minutes\n",
      "Step 92050 of 100001; TPS: 550.85; ETA: 0.2 minutes\n",
      "Step 92600 of 100001; TPS: 551.09; ETA: 0.2 minutes\n",
      "Step 93150 of 100001; TPS: 551.32; ETA: 0.2 minutes\n",
      "Step 93700 of 100001; TPS: 551.54; ETA: 0.2 minutes\n",
      "Step 94250 of 100001; TPS: 551.77; ETA: 0.2 minutes\n",
      "Step 94800 of 100001; TPS: 551.96; ETA: 0.2 minutes\n",
      "Step 95350 of 100001; TPS: 552.11; ETA: 0.1 minutes\n",
      "Step 95900 of 100001; TPS: 552.27; ETA: 0.1 minutes\n",
      "Step 96450 of 100001; TPS: 552.44; ETA: 0.1 minutes\n",
      "Step 97000 of 100001; TPS: 552.63; ETA: 0.1 minutes\n",
      "Step 97550 of 100001; TPS: 552.81; ETA: 0.1 minutes\n",
      "Step 98100 of 100001; TPS: 552.96; ETA: 0.1 minutes\n",
      "Step 98650 of 100001; TPS: 553.15; ETA: 0.0 minutes\n",
      "Step 99200 of 100001; TPS: 553.35; ETA: 0.0 minutes\n",
      "Step 99750 of 100001; TPS: 553.56; ETA: 0.0 minutes\n"
     ]
    }
   ],
   "source": [
    "tensile_sim.run_tensile(n_steps=1e5, strain=0.30, period=500, kT=2.0, tau_kt=0.001)\n",
    "tensile_sim.flush_writers()"
   ]
  },
  {
   "cell_type": "code",
   "execution_count": 4,
   "metadata": {},
   "outputs": [],
   "source": [
    "strain, stress_avg, stress_std = tensile_sim.compile_stress_strain_data()"
   ]
  },
  {
   "cell_type": "code",
   "execution_count": 8,
   "metadata": {},
   "outputs": [
    {
     "data": {
      "text/plain": [
       "<ErrorbarContainer object of 3 artists>"
      ]
     },
     "execution_count": 8,
     "metadata": {},
     "output_type": "execute_result"
    },
    {
     "data": {
      "image/png": "[encoded data removed]",
      "text/plain": [
       "<Figure size 640x480 with 1 Axes>"
      ]
     },
     "metadata": {},
     "output_type": "display_data"
    }
   ],
   "source": [
    "plt.errorbar(x=strain[1:], y=-stress_avg[1:], yerr=stress_std[1:])"
   ]
  },
  {
   "cell_type": "code",
   "execution_count": 4,
   "metadata": {},
   "outputs": [
    {
     "data": {
      "text/plain": [
       "array([0.    , 0.    , 0.    , ..., 0.2985, 0.2985, 0.2985])"
      ]
     },
     "execution_count": 4,
     "metadata": {},
     "output_type": "execute_result"
    }
   ],
   "source": [
    "tensile_sim.strain_data"
   ]
  },
  {
   "cell_type": "code",
   "execution_count": 28,
   "metadata": {},
   "outputs": [
    {
     "data": {
      "text/plain": [
       "array([0.    , 0.    , 0.    , 0.    , 0.    , 0.    , 0.0015, 0.0015,\n",
       "       0.0015, 0.0015, 0.0015, 0.003 , 0.003 , 0.003 , 0.003 , 0.003 ,\n",
       "       0.0045, 0.0045, 0.0045, 0.0045, 0.0045, 0.006 ])"
      ]
     },
     "execution_count": 28,
     "metadata": {},
     "output_type": "execute_result"
    }
   ],
   "source": [
    "tensile_sim._strain_logs[0][:22]"
   ]
  },
  {
   "cell_type": "code",
   "execution_count": 11,
   "metadata": {},
   "outputs": [
    {
     "data": {
      "text/plain": [
       "[<matplotlib.lines.Line2D at 0x7a09e66d0b90>]"
      ]
     },
     "execution_count": 11,
     "metadata": {},
     "output_type": "execute_result"
    },
    {
     "data": {
      "image/png": "[encoded data removed]",
      "text/plain": [
       "<Figure size 640x480 with 1 Axes>"
      ]
     },
     "metadata": {},
     "output_type": "display_data"
    }
   ],
   "source": [
    "plt.plot(tensile_sim._strain_logs[0][2:], -tensile_sim._stress_logs[0][2:], \"o\")"
   ]
  },
  {
   "cell_type": "code",
   "execution_count": null,
   "metadata": {},
   "outputs": [],
   "source": []
  },
  {
   "cell_type": "markdown",
   "metadata": {},
   "source": [
    "The first frame of the tensile pulling simulation is the last frame we viewed above in the welding simulation.\n",
    "Let's take a look at the system after the slabs were pulled apart."
   ]
  },
  {
   "cell_type": "code",
   "execution_count": null,
   "metadata": {},
   "outputs": [],
   "source": [
    "traj = gsd.hoomd.open(\"stress.gsd\")"
   ]
  },
  {
   "cell_type": "code",
   "execution_count": null,
   "metadata": {},
   "outputs": [],
   "source": [
    "dir(tensile_sim.state)"
   ]
  },
  {
   "cell_type": "code",
   "execution_count": null,
   "metadata": {
    "scrolled": true
   },
   "outputs": [],
   "source": [
    "dir(tensile_sim.operations.computes[0])"
   ]
  },
  {
   "cell_type": "code",
   "execution_count": 5,
   "metadata": {},
   "outputs": [
    {
     "data": {
      "text/plain": [
       "[nan, nan, nan, nan, nan, nan]"
      ]
     },
     "execution_count": 5,
     "metadata": {},
     "output_type": "execute_result"
    }
   ],
   "source": [
    "tensile_sim.operations.computes[0].pressure_tensor"
   ]
  },
  {
   "cell_type": "code",
   "execution_count": null,
   "metadata": {},
   "outputs": [],
   "source": [
    "snap = traj[10]"
   ]
  },
  {
   "cell_type": "code",
   "execution_count": null,
   "metadata": {},
   "outputs": [],
   "source": [
    "snap.log[\"md/compute/ThermodynamicQuantities/pressure_tensor\"]"
   ]
  },
  {
   "cell_type": "code",
   "execution_count": null,
   "metadata": {},
   "outputs": [],
   "source": [
    "sim_viewer = FresnelGSD(gsd_file=\"tensile.gsd\", view_axis=(0, 1, 0), frame=0, height=12)\n",
    "weld_colors = np.zeros_like(sim_viewer.positions)\n",
    "weld_colors[:weld_colors.shape[0]//2 + 1] = np.array([0.5, 0.25, 0.5])\n",
    "weld_colors[weld_colors.shape[0]//2 + 1:] = np.array([0.5, 0.1, 0.1])\n",
    "sim_viewer.colors = weld_colors\n",
    "sim_viewer.view(width=500, height=500)"
   ]
  },
  {
   "cell_type": "code",
   "execution_count": null,
   "metadata": {},
   "outputs": [],
   "source": [
    "sim_viewer.frame = -1\n",
    "sim_viewer.height = 22\n",
    "sim_viewer.view(width=500, height=500)"
   ]
  },
  {
   "cell_type": "code",
   "execution_count": 16,
   "metadata": {},
   "outputs": [
    {
     "data": {
      "image/png": "[encoded data removed]",
      "text/plain": [
       "<Figure size 640x480 with 1 Axes>"
      ]
     },
     "metadata": {},
     "output_type": "display_data"
    }
   ],
   "source": [
    "trajectory = gsd.hoomd.open(\"tensile.gsd\")\n",
    "initial_x_len = tensile_sim.initial_length\n",
    "\n",
    "fig = plt.figure()\n",
    "for snap in trajectory[1:]:\n",
    "    new_x = snap.configuration.box[0]\n",
    "    strain = (new_x - initial_x_len) / initial_x_len\n",
    "    P_tensor = snap.log[\"md/compute/ThermodynamicQuantities/pressure_tensor\"]\n",
    "    stress_x = -P_tensor[0]\n",
    "    plt.plot(strain, stress_x, \"ko\")\n",
    "\n",
    "plt.show()"
   ]
  },
  {
   "cell_type": "code",
   "execution_count": null,
   "metadata": {},
   "outputs": [],
   "source": [
    "fig = plt.figure()\n",
    "for snap in trajectory:\n",
    "    new_x = snap.configuration.box[0]\n",
    "    strain = (new_x - initial_x_len) / initial_x_len\n",
    "    energy = snap.log[\"md/pair/LJ/energy\"]\n",
    "    plt.plot(strain, energy/snap.particles.N, \"ro\")\n",
    "\n",
    "plt.show()"
   ]
  },
  {
   "cell_type": "code",
   "execution_count": null,
   "metadata": {},
   "outputs": [],
   "source": []
  },
  {
   "cell_type": "code",
   "execution_count": 30,
   "metadata": {},
   "outputs": [],
   "source": [
    "import numpy as np"
   ]
  },
  {
   "cell_type": "code",
   "execution_count": 33,
   "metadata": {},
   "outputs": [],
   "source": [
    "array_list = [np.arange(0, 10, 1), np.arange(10, 20, 1), np.arange(20, 30, 1)]"
   ]
  },
  {
   "cell_type": "code",
   "execution_count": 32,
   "metadata": {},
   "outputs": [
    {
     "data": {
      "text/plain": [
       "[array([0, 1, 2, 3, 4, 5, 6, 7, 8, 9]),\n",
       " array([10, 11, 12, 13, 14, 15, 16, 17, 18, 19]),\n",
       " array([20, 21, 22, 23, 24, 25, 26, 27, 28, 29])]"
      ]
     },
     "execution_count": 32,
     "metadata": {},
     "output_type": "execute_result"
    }
   ],
   "source": [
    "array_list"
   ]
  },
  {
   "cell_type": "code",
   "execution_count": 36,
   "metadata": {},
   "outputs": [],
   "source": [
    "total_array = np.concatenate(array_list)"
   ]
  },
  {
   "cell_type": "code",
   "execution_count": 37,
   "metadata": {},
   "outputs": [
    {
     "data": {
      "text/plain": [
       "array([ 0,  1,  2,  3,  4,  5,  6,  7,  8,  9, 10, 11, 12, 13, 14, 15, 16,\n",
       "       17, 18, 19, 20, 21, 22, 23, 24, 25, 26, 27, 28, 29])"
      ]
     },
     "execution_count": 37,
     "metadata": {},
     "output_type": "execute_result"
    }
   ],
   "source": [
    "total_array"
   ]
  },
  {
   "cell_type": "code",
   "execution_count": null,
   "metadata": {},
   "outputs": [],
   "source": []
  }
 ],
 "metadata": {
  "kernelspec": {
   "display_name": "Python 3 (ipykernel)",
   "language": "python",
   "name": "python3"
  },
  "language_info": {
   "codemirror_mode": {
    "name": "ipython",
    "version": 3
   },
   "file_extension": ".py",
   "mimetype": "text/x-python",
   "name": "python",
   "nbconvert_exporter": "python",
   "pygments_lexer": "ipython3",
   "version": "3.11.0"
  }
 },
 "nbformat": 4,
 "nbformat_minor": 4
}
